{
 "cells": [
  {
   "cell_type": "markdown",
   "metadata": {},
   "source": [
    "# Collaborative Filtering - Système de Recommandation\n",
    "\n",
    "Implémentation de 3 algorithmes de filtrage collaboratif pour la recommandation d'articles"
   ]
  },
  {
   "cell_type": "code",
   "metadata": {
    "ExecuteTime": {
     "end_time": "2025-10-03T07:21:06.119346Z",
     "start_time": "2025-10-03T07:21:05.875609Z"
    }
   },
   "source": [
    "import pandas as pd\n",
    "import numpy as np\n",
    "import pickle\n",
    "import glob\n",
    "from datetime import datetime\n",
    "from scipy.sparse import csr_matrix, lil_matrix\n",
    "from collections import defaultdict\n",
    "import warnings\n",
    "warnings.filterwarnings('ignore')\n",
    "\n",
    "# Bibliothèques de collaborative filtering\n",
    "from surprise import SVD, NMF, Dataset, Reader\n",
    "from surprise.model_selection import train_test_split as surprise_split\n",
    "import implicit\n",
    "from implicit.als import AlternatingLeastSquares"
   ],
   "outputs": [],
   "execution_count": 1
  },
  {
   "cell_type": "markdown",
   "metadata": {},
   "source": [
    "## 1. Chargement et Préparation des Données"
   ]
  },
  {
   "cell_type": "code",
   "metadata": {
    "ExecuteTime": {
     "end_time": "2025-10-03T07:21:07.583996Z",
     "start_time": "2025-10-03T07:21:06.127649Z"
    }
   },
   "source": [
    "# Chargement des métadonnées\n",
    "articles_df = pd.read_csv('data/articles_metadata.csv')\n",
    "articles_df = articles_df.drop_duplicates(subset=['article_id'])\n",
    "articles_df = articles_df[(articles_df['words_count'] >= 10) & (articles_df['words_count'] <= 2000)]\n",
    "\n",
    "# Chargement des clics\n",
    "click_files = sorted(glob.glob('data/clicks/clicks_hour_*.csv'))[:150]\n",
    "clicks_df = pd.concat([pd.read_csv(f) for f in click_files], ignore_index=True)\n",
    "\n",
    "# Nettoyage\n",
    "clicks_df = clicks_df.drop_duplicates()\n",
    "clicks_df = clicks_df[clicks_df['session_size'] <= 200]\n",
    "valid_articles = set(articles_df['article_id'].unique())\n",
    "clicks_df = clicks_df[clicks_df['click_article_id'].isin(valid_articles)]\n",
    "\n",
    "# Calcul du temps jusqu'au clic\n",
    "clicks_df['time_to_click'] = (clicks_df['click_timestamp'] - clicks_df['session_start']) / 1000\n",
    "clicks_df = clicks_df[(clicks_df['time_to_click'] >= 0) & (clicks_df['time_to_click'] <= 3600)]\n",
    "\n",
    "print(f\"Articles: {len(articles_df):,}\")\n",
    "print(f\"Clics: {len(clicks_df):,}\")\n",
    "print(f\"Utilisateurs uniques: {clicks_df['user_id'].nunique():,}\")\n",
    "print(f\"Articles cliqués: {clicks_df['click_article_id'].nunique():,}\")"
   ],
   "outputs": [
    {
     "name": "stdout",
     "output_type": "stream",
     "text": [
      "Articles: 363,946\n",
      "Clics: 1,191,879\n",
      "Utilisateurs uniques: 210,991\n",
      "Articles cliqués: 20,793\n"
     ]
    }
   ],
   "execution_count": 2
  },
  {
   "cell_type": "markdown",
   "metadata": {},
   "source": [
    "## 2. Création des Matrices d'Interaction"
   ]
  },
  {
   "cell_type": "code",
   "metadata": {
    "ExecuteTime": {
     "end_time": "2025-10-03T07:21:23.849283Z",
     "start_time": "2025-10-03T07:21:07.655004Z"
    }
   },
   "source": [
    "# Agrégation des interactions\n",
    "interactions = clicks_df.groupby(['user_id', 'click_article_id']).agg({\n",
    "    'click_timestamp': 'count',\n",
    "    'time_to_click': 'mean'\n",
    "}).reset_index()\n",
    "interactions.columns = ['user_id', 'article_id', 'click_count', 'avg_time_to_click']\n",
    "\n",
    "# Score d'engagement pondéré\n",
    "max_time = interactions['avg_time_to_click'].max()\n",
    "interactions['engagement_score'] = interactions['click_count'] * (1 - interactions['avg_time_to_click'] / max_time)\n",
    "interactions['rating'] = 1 + 4 * (interactions['engagement_score'] - interactions['engagement_score'].min()) / \\\n",
    "                        (interactions['engagement_score'].max() - interactions['engagement_score'].min())\n",
    "\n",
    "# Filtrage des utilisateurs actifs\n",
    "user_counts = interactions['user_id'].value_counts()\n",
    "active_users = user_counts[user_counts >= 5].index\n",
    "filtered_interactions = interactions[interactions['user_id'].isin(active_users)]\n",
    "\n",
    "# Création des mappings\n",
    "unique_users = sorted(filtered_interactions['user_id'].unique())\n",
    "unique_items = sorted(filtered_interactions['article_id'].unique())\n",
    "user_to_idx = {user: idx for idx, user in enumerate(unique_users)}\n",
    "item_to_idx = {item: idx for idx, item in enumerate(unique_items)}\n",
    "\n",
    "filtered_interactions['user_idx'] = filtered_interactions['user_id'].map(user_to_idx)\n",
    "filtered_interactions['item_idx'] = filtered_interactions['article_id'].map(item_to_idx)\n",
    "\n",
    "print(f\"\\nInteractions filtrées: {len(filtered_interactions):,}\")\n",
    "print(f\"Rating moyen: {filtered_interactions['rating'].mean():.2f}\")\n",
    "print(f\"Sparsité: {1 - len(filtered_interactions) / (len(unique_users) * len(unique_items)):.2%}\")"
   ],
   "outputs": [
    {
     "name": "stdout",
     "output_type": "stream",
     "text": [
      "\n",
      "Interactions filtrées: 839,084\n",
      "Rating moyen: 1.23\n",
      "Sparsité: 99.93%\n"
     ]
    }
   ],
   "execution_count": 3
  },
  {
   "cell_type": "markdown",
   "metadata": {},
   "source": [
    "## 3. Split Train/Test Temporel"
   ]
  },
  {
   "cell_type": "code",
   "metadata": {
    "ExecuteTime": {
     "end_time": "2025-10-03T07:21:34.228539Z",
     "start_time": "2025-10-03T07:21:23.863576Z"
    }
   },
   "source": [
    "def temporal_split(interactions_df, test_ratio=0.2, min_test_interactions=2):\n",
    "    \"\"\"Split temporel garantissant des items prédictibles dans le test\"\"\"\n",
    "    train_data, test_data = [], []\n",
    "    \n",
    "    for user_id, user_interactions in interactions_df.groupby('user_id'):\n",
    "        user_sorted = user_interactions.sort_index()\n",
    "        n_interactions = len(user_sorted)\n",
    "        \n",
    "        if n_interactions >= min_test_interactions + 2:\n",
    "            split_point = int(n_interactions * (1 - test_ratio))\n",
    "            split_point = max(2, min(split_point, n_interactions - min_test_interactions))\n",
    "            \n",
    "            train_data.append(user_sorted.iloc[:split_point])\n",
    "            test_data.append(user_sorted.iloc[split_point:])\n",
    "        else:\n",
    "            train_data.append(user_sorted)\n",
    "    \n",
    "    train_df = pd.concat(train_data, ignore_index=True)\n",
    "    test_df = pd.concat(test_data, ignore_index=True) if test_data else pd.DataFrame()\n",
    "    \n",
    "    # Filtrer le test pour ne garder que les articles du train\n",
    "    train_items = set(train_df['article_id'].unique())\n",
    "    test_df = test_df[test_df['article_id'].isin(train_items)]\n",
    "    \n",
    "    return train_df, test_df\n",
    "\n",
    "train_df, test_df = temporal_split(filtered_interactions, test_ratio=0.2)\n",
    "\n",
    "print(f\"Train: {len(train_df):,} interactions\")\n",
    "print(f\"Test: {len(test_df):,} interactions\")\n",
    "print(f\"Utilisateurs dans test: {test_df['user_id'].nunique():,}\")\n",
    "print(f\"Articles testables: {len(set(test_df['article_id']) & set(train_df['article_id'])):,}\")"
   ],
   "outputs": [
    {
     "name": "stdout",
     "output_type": "stream",
     "text": [
      "Train: 625,439 interactions\n",
      "Test: 208,396 interactions\n",
      "Utilisateurs dans test: 78,646\n",
      "Articles testables: 3,603\n"
     ]
    }
   ],
   "execution_count": 4
  },
  {
   "cell_type": "markdown",
   "metadata": {},
   "source": [
    "## 4. Approche 1: SVD (Singular Value Decomposition)"
   ]
  },
  {
   "cell_type": "code",
   "metadata": {
    "ExecuteTime": {
     "end_time": "2025-10-03T07:21:34.246164Z",
     "start_time": "2025-10-03T07:21:34.242465Z"
    }
   },
   "source": [
    "class SVDRecommender:\n",
    "    def __init__(self, n_factors=100, n_epochs=20, lr_all=0.005, reg_all=0.02):\n",
    "        self.model = SVD(\n",
    "            n_factors=n_factors,\n",
    "            n_epochs=n_epochs,\n",
    "            lr_all=lr_all,\n",
    "            reg_all=reg_all,\n",
    "            verbose=False\n",
    "        )\n",
    "        self.is_trained = False\n",
    "        \n",
    "    def fit(self, train_df):\n",
    "        \"\"\"Entraînement du modèle SVD\"\"\"\n",
    "        reader = Reader(rating_scale=(1, 5))\n",
    "        data = Dataset.load_from_df(\n",
    "            train_df[['user_id', 'article_id', 'rating']], \n",
    "            reader\n",
    "        )\n",
    "        self.trainset = data.build_full_trainset()\n",
    "        self.model.fit(self.trainset)\n",
    "        self.is_trained = True\n",
    "        \n",
    "        # Stocker les informations importantes\n",
    "        self.user_items = train_df.groupby('user_id')['article_id'].apply(set).to_dict()\n",
    "        self.all_items = set(train_df['article_id'].unique())\n",
    "        self.item_popularity = train_df['article_id'].value_counts().to_dict()\n",
    "    \n",
    "    def recommend(self, user_id, n=10, exclude_seen=True):\n",
    "        \"\"\"Génère n recommandations pour un utilisateur\"\"\"\n",
    "        if not self.is_trained:\n",
    "            return []\n",
    "        \n",
    "        seen_items = self.user_items.get(user_id, set()) if exclude_seen else set()\n",
    "        \n",
    "        try:\n",
    "            self.trainset.to_inner_uid(user_id)\n",
    "            user_known = True\n",
    "        except ValueError:\n",
    "            user_known = False\n",
    "        \n",
    "        candidates = list(self.all_items - seen_items)\n",
    "        \n",
    "        if not candidates:\n",
    "            return []\n",
    "        \n",
    "        # Limiter pour performance\n",
    "        if len(candidates) > 500:\n",
    "            popular = sorted(candidates, key=lambda x: self.item_popularity.get(x, 0), reverse=True)[:250]\n",
    "            random = list(np.random.choice(\n",
    "                [c for c in candidates if c not in popular], \n",
    "                min(250, len(candidates)-250), replace=False\n",
    "            ))\n",
    "            candidates = popular + random\n",
    "        \n",
    "        predictions = []\n",
    "        for item_id in candidates:\n",
    "            try:\n",
    "                self.trainset.to_inner_iid(item_id)\n",
    "                item_known = True\n",
    "            except ValueError:\n",
    "                item_known = False\n",
    "            \n",
    "            if user_known and item_known:\n",
    "                pred = self.model.predict(user_id, item_id)\n",
    "                predictions.append((item_id, pred.est))\n",
    "            elif item_known:\n",
    "                item_inner_id = self.trainset.to_inner_iid(item_id)\n",
    "                item_bias = self.model.bi[item_inner_id] if hasattr(self.model, 'bi') else 0\n",
    "                predictions.append((item_id, self.trainset.global_mean + item_bias))\n",
    "            else:\n",
    "                popularity_score = self.item_popularity.get(item_id, 0) / max(self.item_popularity.values())\n",
    "                predictions.append((item_id, self.trainset.global_mean * (0.5 + 0.5 * popularity_score)))\n",
    "        \n",
    "        predictions.sort(key=lambda x: x[1], reverse=True)\n",
    "        return [item_id for item_id, _ in predictions[:n]]"
   ],
   "outputs": [],
   "execution_count": 5
  },
  {
   "cell_type": "markdown",
   "metadata": {},
   "source": [
    "## 5. Approche 2: NMF (Non-Negative Matrix Factorization)"
   ]
  },
  {
   "cell_type": "code",
   "metadata": {
    "ExecuteTime": {
     "end_time": "2025-10-03T07:21:34.269098Z",
     "start_time": "2025-10-03T07:21:34.265377Z"
    }
   },
   "source": [
    "class NMFRecommender:\n",
    "    def __init__(self, n_factors=50, n_epochs=50):\n",
    "        self.model = NMF(\n",
    "            n_factors=n_factors,\n",
    "            n_epochs=n_epochs,\n",
    "            verbose=False\n",
    "        )\n",
    "        self.is_trained = False\n",
    "        \n",
    "    def fit(self, train_df):\n",
    "        \"\"\"Entraînement du modèle NMF\"\"\"\n",
    "        reader = Reader(rating_scale=(1, 5))\n",
    "        data = Dataset.load_from_df(\n",
    "            train_df[['user_id', 'article_id', 'rating']], \n",
    "            reader\n",
    "        )\n",
    "        self.trainset = data.build_full_trainset()\n",
    "        self.model.fit(self.trainset)\n",
    "        self.is_trained = True\n",
    "        \n",
    "        self.user_items = train_df.groupby('user_id')['article_id'].apply(set).to_dict()\n",
    "        self.all_items = set(train_df['article_id'].unique())\n",
    "        self.item_popularity = train_df['article_id'].value_counts().to_dict()\n",
    "    \n",
    "    def recommend(self, user_id, n=10, exclude_seen=True):\n",
    "        \"\"\"Génère n recommandations pour un utilisateur\"\"\"\n",
    "        if not self.is_trained:\n",
    "            return []\n",
    "        \n",
    "        seen_items = self.user_items.get(user_id, set()) if exclude_seen else set()\n",
    "        \n",
    "        try:\n",
    "            self.trainset.to_inner_uid(user_id)\n",
    "            user_known = True\n",
    "        except ValueError:\n",
    "            user_known = False\n",
    "        \n",
    "        candidates = list(self.all_items - seen_items)\n",
    "        \n",
    "        if not candidates:\n",
    "            return []\n",
    "        \n",
    "        if len(candidates) > 500:\n",
    "            popular = sorted(candidates, key=lambda x: self.item_popularity.get(x, 0), reverse=True)[:250]\n",
    "            random = list(np.random.choice(\n",
    "                [c for c in candidates if c not in popular], \n",
    "                min(250, len(candidates)-250), replace=False\n",
    "            ))\n",
    "            candidates = popular + random\n",
    "        \n",
    "        predictions = []\n",
    "        for item_id in candidates:\n",
    "            try:\n",
    "                self.trainset.to_inner_iid(item_id)\n",
    "                item_known = True\n",
    "            except ValueError:\n",
    "                item_known = False\n",
    "            \n",
    "            if user_known and item_known:\n",
    "                pred = self.model.predict(user_id, item_id)\n",
    "                predictions.append((item_id, pred.est))\n",
    "            elif item_known:\n",
    "                item_inner_id = self.trainset.to_inner_iid(item_id)\n",
    "                item_ratings = [self.trainset.ur[u][1] for u in range(self.trainset.n_users) \n",
    "                              if item_inner_id in [i for i, r in self.trainset.ur[u]]]\n",
    "                item_mean = np.mean(item_ratings) if item_ratings else self.trainset.global_mean\n",
    "                predictions.append((item_id, item_mean))\n",
    "            else:\n",
    "                popularity_score = self.item_popularity.get(item_id, 0) / max(self.item_popularity.values())\n",
    "                predictions.append((item_id, self.trainset.global_mean * (0.5 + 0.5 * popularity_score)))\n",
    "        \n",
    "        predictions.sort(key=lambda x: x[1], reverse=True)\n",
    "        return [item_id for item_id, _ in predictions[:n]]"
   ],
   "outputs": [],
   "execution_count": 6
  },
  {
   "cell_type": "markdown",
   "metadata": {},
   "source": [
    "## 6. Approche 3: ALS (Alternating Least Squares)"
   ]
  },
  {
   "cell_type": "code",
   "metadata": {
    "ExecuteTime": {
     "end_time": "2025-10-03T07:21:34.286695Z",
     "start_time": "2025-10-03T07:21:34.283218Z"
    }
   },
   "source": [
    "class ALSRecommender:\n",
    "    def __init__(self, factors=100, regularization=0.01, iterations=20, alpha=40):\n",
    "        self.model = AlternatingLeastSquares(\n",
    "            factors=factors,\n",
    "            regularization=regularization,\n",
    "            iterations=iterations,\n",
    "            alpha=alpha,\n",
    "            random_state=42\n",
    "        )\n",
    "        self.is_trained = False\n",
    "        \n",
    "    def fit(self, train_df):\n",
    "        \"\"\"Entraînement du modèle ALS\"\"\"\n",
    "        # Créer la matrice sparse user-item\n",
    "        n_users = train_df['user_idx'].max() + 1\n",
    "        n_items = train_df['item_idx'].max() + 1\n",
    "        \n",
    "        self.user_item_matrix = lil_matrix((n_users, n_items))\n",
    "        \n",
    "        for _, row in train_df.iterrows():\n",
    "            self.user_item_matrix[row['user_idx'], row['item_idx']] = row['click_count']\n",
    "        \n",
    "        self.user_item_matrix = self.user_item_matrix.tocsr()\n",
    "        self.item_user_matrix = self.user_item_matrix.T.tocsr()\n",
    "        \n",
    "        # Entraînement\n",
    "        self.model.fit(self.item_user_matrix)\n",
    "        self.is_trained = True\n",
    "        \n",
    "        # Stocker les mappings\n",
    "        self.user_to_idx = train_df[['user_id', 'user_idx']].drop_duplicates().set_index('user_id')['user_idx'].to_dict()\n",
    "        self.item_to_idx = train_df[['article_id', 'item_idx']].drop_duplicates().set_index('article_id')['item_idx'].to_dict()\n",
    "        self.idx_to_item = {v: k for k, v in self.item_to_idx.items()}\n",
    "        self.user_items = train_df.groupby('user_id')['article_id'].apply(set).to_dict()\n",
    "        self.item_popularity = train_df['article_id'].value_counts().to_dict()\n",
    "        self.all_items = set(train_df['article_id'].unique())\n",
    "    \n",
    "    def recommend(self, user_id, n=10, exclude_seen=True):\n",
    "        \"\"\"Génère n recommandations pour un utilisateur\"\"\"\n",
    "        if not self.is_trained:\n",
    "            return []\n",
    "        \n",
    "        # Si l'utilisateur n'est pas dans le train, recommander les plus populaires\n",
    "        if user_id not in self.user_to_idx:\n",
    "            popular = sorted(self.all_items, \n",
    "                           key=lambda x: self.item_popularity.get(x, 0), \n",
    "                           reverse=True)\n",
    "            seen = self.user_items.get(user_id, set()) if exclude_seen else set()\n",
    "            return [item for item in popular if item not in seen][:n]\n",
    "        \n",
    "        user_idx = self.user_to_idx[user_id]\n",
    "        \n",
    "        try:\n",
    "            recommendations, scores = self.model.recommend(\n",
    "                user_idx, \n",
    "                self.user_item_matrix[user_idx], \n",
    "                N=n + len(self.user_items.get(user_id, [])),\n",
    "                filter_already_liked_items=exclude_seen\n",
    "            )\n",
    "            \n",
    "            recommended_items = [self.idx_to_item[idx] for idx in recommendations \n",
    "                               if idx in self.idx_to_item]\n",
    "            \n",
    "            return recommended_items[:n]\n",
    "        except:\n",
    "            # Fallback vers popularité\n",
    "            popular = sorted(self.all_items, \n",
    "                           key=lambda x: self.item_popularity.get(x, 0), \n",
    "                           reverse=True)\n",
    "            seen = self.user_items.get(user_id, set()) if exclude_seen else set()\n",
    "            return [item for item in popular if item not in seen][:n]"
   ],
   "outputs": [],
   "execution_count": 7
  },
  {
   "cell_type": "markdown",
   "metadata": {},
   "source": [
    "## 7. Entraînement des Modèles"
   ]
  },
  {
   "cell_type": "code",
   "metadata": {
    "ExecuteTime": {
     "end_time": "2025-10-03T07:22:08.314471Z",
     "start_time": "2025-10-03T07:21:34.301308Z"
    }
   },
   "source": [
    "# Initialisation et entraînement des modèles\n",
    "print(\"Entraînement des modèles...\\n\")\n",
    "\n",
    "# SVD\n",
    "print(\"1. SVD...\")\n",
    "svd_recommender = SVDRecommender(n_factors=100, n_epochs=20)\n",
    "svd_recommender.fit(train_df)\n",
    "print(\"   ✓ SVD entraîné\")\n",
    "\n",
    "# NMF\n",
    "print(\"2. NMF...\")\n",
    "nmf_recommender = NMFRecommender(n_factors=50, n_epochs=50)\n",
    "nmf_recommender.fit(train_df)\n",
    "print(\"   ✓ NMF entraîné\")\n",
    "\n",
    "# ALS\n",
    "print(\"3. ALS...\")\n",
    "als_recommender = ALSRecommender(factors=100, regularization=0.01, iterations=20)\n",
    "als_recommender.fit(train_df)\n",
    "print(\"   ✓ ALS entraîné\")\n",
    "\n",
    "print(\"\\nTous les modèles sont entraînés!\")"
   ],
   "outputs": [
    {
     "name": "stdout",
     "output_type": "stream",
     "text": [
      "Entraînement des modèles...\n",
      "\n",
      "1. SVD...\n",
      "   ✓ SVD entraîné\n",
      "2. NMF...\n",
      "   ✓ NMF entraîné\n",
      "3. ALS...\n"
     ]
    },
    {
     "name": "stderr",
     "output_type": "stream",
     "text": [
      "100%|██████████| 20/20 [00:15<00:00,  1.25it/s]\n"
     ]
    },
    {
     "name": "stdout",
     "output_type": "stream",
     "text": [
      "   ✓ ALS entraîné\n",
      "\n",
      "Tous les modèles sont entraînés!\n"
     ]
    }
   ],
   "execution_count": 8
  },
  {
   "cell_type": "markdown",
   "metadata": {},
   "source": [
    "## 8. Framework d'Évaluation"
   ]
  },
  {
   "cell_type": "code",
   "metadata": {
    "ExecuteTime": {
     "end_time": "2025-10-03T07:22:08.334371Z",
     "start_time": "2025-10-03T07:22:08.329310Z"
    }
   },
   "source": [
    "def evaluate_model(recommender, test_df, train_df, model_name, k_values=[5, 10, 20]):\n",
    "    \"\"\"Évaluation robuste avec diagnostics détaillés\"\"\"\n",
    "    results = defaultdict(list)\n",
    "    \n",
    "    # S'assurer que nous n'évaluons que sur des articles du train\n",
    "    train_items_set = set(train_df['article_id'].unique())\n",
    "    test_df_filtered = test_df[test_df['article_id'].isin(train_items_set)]\n",
    "    \n",
    "    test_users = test_df_filtered['user_id'].unique()\n",
    "    sample_size = min(500, len(test_users))\n",
    "    np.random.seed(42)\n",
    "    test_users_sample = np.random.choice(test_users, sample_size, replace=False)\n",
    "    \n",
    "    users_evaluated = 0\n",
    "    users_with_hits = 0\n",
    "    \n",
    "    for user_id in test_users_sample:\n",
    "        # Articles vus dans le train\n",
    "        train_user_items = set(train_df[train_df['user_id'] == user_id]['article_id'].unique())\n",
    "        \n",
    "        # Articles dans le test\n",
    "        test_user_items = set(test_df_filtered[test_df_filtered['user_id'] == user_id]['article_id'].unique())\n",
    "        \n",
    "        # Articles à prédire\n",
    "        actual = test_user_items - train_user_items\n",
    "        \n",
    "        if len(actual) == 0:\n",
    "            continue\n",
    "        \n",
    "        # Obtenir les recommandations\n",
    "        try:\n",
    "            recommendations = recommender.recommend(user_id, n=max(k_values), exclude_seen=True)\n",
    "        except Exception as e:\n",
    "            continue\n",
    "        \n",
    "        if not recommendations:\n",
    "            continue\n",
    "        \n",
    "        users_evaluated += 1\n",
    "        user_had_hit = False\n",
    "        \n",
    "        for k in k_values:\n",
    "            top_k = recommendations[:k]\n",
    "            hits = len(set(top_k) & actual)\n",
    "            \n",
    "            if hits > 0:\n",
    "                user_had_hit = True\n",
    "            \n",
    "            results[f'hit@{k}'].append(1 if hits > 0 else 0)\n",
    "            results[f'precision@{k}'].append(hits / k if k > 0 else 0)\n",
    "            results[f'recall@{k}'].append(hits / len(actual) if len(actual) > 0 else 0)\n",
    "        \n",
    "        if user_had_hit:\n",
    "            users_with_hits += 1\n",
    "    \n",
    "    # Moyennes\n",
    "    avg_results = {}\n",
    "    for metric, values in results.items():\n",
    "        avg_results[metric] = np.mean(values) if values else 0\n",
    "    \n",
    "    print(f\"\\nRésultats pour {model_name}:\")\n",
    "    print(\"=\" * 50)\n",
    "    print(f\"Utilisateurs évalués: {users_evaluated}/{sample_size}\")\n",
    "    print(f\"Utilisateurs avec au moins un hit: {users_with_hits}\")\n",
    "    print(f\"Pourcentage de succès: {users_with_hits/users_evaluated*100:.1f}%\" if users_evaluated > 0 else \"N/A\")\n",
    "    \n",
    "    for k in k_values:\n",
    "        print(f\"\\n@{k}:\")\n",
    "        print(f\"  Hit Rate: {avg_results.get(f'hit@{k}', 0):.3f}\")\n",
    "        print(f\"  Precision: {avg_results.get(f'precision@{k}', 0):.3f}\")\n",
    "        print(f\"  Recall: {avg_results.get(f'recall@{k}', 0):.3f}\")\n",
    "    \n",
    "    return avg_results"
   ],
   "outputs": [],
   "execution_count": 9
  },
  {
   "cell_type": "markdown",
   "metadata": {},
   "source": [
    "## 9. Évaluation des Modèles"
   ]
  },
  {
   "cell_type": "code",
   "metadata": {
    "ExecuteTime": {
     "end_time": "2025-10-03T07:22:33.305695Z",
     "start_time": "2025-10-03T07:22:08.347509Z"
    }
   },
   "source": [
    "# Évaluation de tous les modèles\n",
    "models_results = {}\n",
    "\n",
    "print(\"ÉVALUATION DES MODÈLES DE COLLABORATIVE FILTERING\")\n",
    "print(\"=\" * 60)\n",
    "\n",
    "# SVD\n",
    "svd_results = evaluate_model(svd_recommender, test_df, train_df, \"SVD\")\n",
    "models_results['SVD'] = svd_results\n",
    "\n",
    "# NMF\n",
    "nmf_results = evaluate_model(nmf_recommender, test_df, train_df, \"NMF\")\n",
    "models_results['NMF'] = nmf_results\n",
    "\n",
    "# ALS\n",
    "als_results = evaluate_model(als_recommender, test_df, train_df, \"ALS\")\n",
    "models_results['ALS'] = als_results"
   ],
   "outputs": [
    {
     "name": "stdout",
     "output_type": "stream",
     "text": [
      "ÉVALUATION DES MODÈLES DE COLLABORATIVE FILTERING\n",
      "============================================================\n",
      "\n",
      "Résultats pour SVD:\n",
      "==================================================\n",
      "Utilisateurs évalués: 500/500\n",
      "Utilisateurs avec au moins un hit: 0\n",
      "Pourcentage de succès: 0.0%\n",
      "\n",
      "@5:\n",
      "  Hit Rate: 0.000\n",
      "  Precision: 0.000\n",
      "  Recall: 0.000\n",
      "\n",
      "@10:\n",
      "  Hit Rate: 0.000\n",
      "  Precision: 0.000\n",
      "  Recall: 0.000\n",
      "\n",
      "@20:\n",
      "  Hit Rate: 0.000\n",
      "  Precision: 0.000\n",
      "  Recall: 0.000\n",
      "\n",
      "Résultats pour NMF:\n",
      "==================================================\n",
      "Utilisateurs évalués: 500/500\n",
      "Utilisateurs avec au moins un hit: 28\n",
      "Pourcentage de succès: 5.6%\n",
      "\n",
      "@5:\n",
      "  Hit Rate: 0.000\n",
      "  Precision: 0.000\n",
      "  Recall: 0.000\n",
      "\n",
      "@10:\n",
      "  Hit Rate: 0.012\n",
      "  Precision: 0.001\n",
      "  Recall: 0.006\n",
      "\n",
      "@20:\n",
      "  Hit Rate: 0.056\n",
      "  Precision: 0.003\n",
      "  Recall: 0.026\n",
      "\n",
      "Résultats pour ALS:\n",
      "==================================================\n",
      "Utilisateurs évalués: 500/500\n",
      "Utilisateurs avec au moins un hit: 132\n",
      "Pourcentage de succès: 26.4%\n",
      "\n",
      "@5:\n",
      "  Hit Rate: 0.068\n",
      "  Precision: 0.014\n",
      "  Recall: 0.029\n",
      "\n",
      "@10:\n",
      "  Hit Rate: 0.202\n",
      "  Precision: 0.022\n",
      "  Recall: 0.098\n",
      "\n",
      "@20:\n",
      "  Hit Rate: 0.264\n",
      "  Precision: 0.016\n",
      "  Recall: 0.138\n"
     ]
    }
   ],
   "execution_count": 10
  },
  {
   "cell_type": "markdown",
   "metadata": {},
   "source": [
    "## 10. Visualisation des Résultats"
   ]
  },
  {
   "cell_type": "code",
   "metadata": {
    "ExecuteTime": {
     "end_time": "2025-10-03T07:40:41.309359Z",
     "start_time": "2025-10-03T07:40:41.165980Z"
    }
   },
   "source": [
    "import matplotlib.pyplot as plt\n",
    "import seaborn as sns\n",
    "\n",
    "# Préparation des données\n",
    "comparison_df = pd.DataFrame(models_results).T\n",
    "\n",
    "# Configuration des graphiques\n",
    "plt.style.use('seaborn-v0_8-whitegrid')\n",
    "colors = ['#E53935', '#43A047', '#1976D2']\n",
    "\n",
    "# Création de la figure avec 4 graphiques au lieu de 6\n",
    "fig = plt.figure(figsize=(12, 8))\n",
    "fig.suptitle('Évaluation du Système de Recommandation Collaborative Filtering', fontsize=14, y=1.02)\n",
    "\n",
    "# 1. Hit Rate comparison\n",
    "ax1 = plt.subplot(2, 2, 1)\n",
    "hit_data = comparison_df[['hit@5', 'hit@10', 'hit@20']] * 100\n",
    "hit_data.plot(kind='bar', ax=ax1, color=colors, width=0.7)\n",
    "ax1.set_title('Hit Rate (%)', fontsize=12)\n",
    "ax1.set_xlabel('Modèle')\n",
    "ax1.set_ylabel('Hit Rate (%)')\n",
    "ax1.set_xticklabels(ax1.get_xticklabels(), rotation=0)\n",
    "ax1.legend(['@5', '@10', '@20'], frameon=True, loc='upper left')\n",
    "ax1.grid(axis='y', alpha=0.3)\n",
    "\n",
    "# 2. Precision comparison\n",
    "ax2 = plt.subplot(2, 2, 2)\n",
    "precision_data = comparison_df[['precision@5', 'precision@10', 'precision@20']]\n",
    "precision_data.plot(kind='bar', ax=ax2, color=colors, width=0.7)\n",
    "ax2.set_title('Precision', fontsize=12)\n",
    "ax2.set_xlabel('Modèle')\n",
    "ax2.set_ylabel('Precision')\n",
    "ax2.set_xticklabels(ax2.get_xticklabels(), rotation=0)\n",
    "ax2.legend(['@5', '@10', '@20'], frameon=True, loc='upper right')\n",
    "ax2.grid(axis='y', alpha=0.3)\n",
    "\n",
    "# 3. F1 Scores\n",
    "ax3 = plt.subplot(2, 2, 3)\n",
    "f1_scores = pd.DataFrame()\n",
    "for k in [5, 10, 20]:\n",
    "    precision = comparison_df[f'precision@{k}']\n",
    "    recall = comparison_df[f'recall@{k}']\n",
    "    f1 = 2 * (precision * recall) / (precision + recall + 1e-10)\n",
    "    f1_scores[f'@{k}'] = f1\n",
    "\n",
    "f1_scores.plot(kind='bar', ax=ax3, color=colors, width=0.7)\n",
    "ax3.set_title('F1 Score', fontsize=12)\n",
    "ax3.set_xlabel('Modèle')\n",
    "ax3.set_ylabel('F1 Score')\n",
    "ax3.set_xticklabels(ax3.get_xticklabels(), rotation=0)\n",
    "ax3.legend(frameon=True, loc='upper left')\n",
    "ax3.grid(axis='y', alpha=0.3)\n",
    "\n",
    "# 4. Tableau récapitulatif\n",
    "ax4 = plt.subplot(2, 2, 4)\n",
    "ax4.axis('tight')\n",
    "ax4.axis('off')\n",
    "\n",
    "# Préparer les données du tableau\n",
    "table_data = []\n",
    "for model in comparison_df.index:\n",
    "    row = [\n",
    "        model,\n",
    "        f\"{comparison_df.loc[model, 'hit@20']:.1%}\",\n",
    "        f\"{comparison_df.loc[model, 'precision@10']:.3f}\",\n",
    "        f\"{f1_scores.loc[model, '@10']:.3f}\"\n",
    "    ]\n",
    "    table_data.append(row)\n",
    "\n",
    "# Ajouter la ligne du meilleur modèle\n",
    "best_model = f1_scores['@10'].idxmax()\n",
    "winner_row = [\n",
    "    f\"🏆 {best_model}\",\n",
    "    f\"{comparison_df.loc[best_model, 'hit@20']:.1%}\",\n",
    "    f\"{comparison_df.loc[best_model, 'precision@10']:.3f}\",\n",
    "    f\"{f1_scores.loc[best_model, '@10']:.3f}\"\n",
    "]\n",
    "table_data.append(winner_row)\n",
    "\n",
    "# Créer le tableau\n",
    "table = ax4.table(cellText=table_data,\n",
    "                colLabels=['Modèle', 'Hit@20', 'Prec@10', 'F1@10'],\n",
    "                cellLoc='center',\n",
    "                loc='center',\n",
    "                colWidths=[0.35, 0.22, 0.22, 0.21])\n",
    "\n",
    "table.auto_set_font_size(False)\n",
    "table.set_fontsize(10)\n",
    "table.scale(1, 2.5)\n",
    "\n",
    "# Style du tableau\n",
    "for i in range(len(table_data) + 1):\n",
    "    for j in range(4):\n",
    "        cell = table[(i, j)]\n",
    "        if i == 0:\n",
    "            cell.set_facecolor('#D3D3D3')\n",
    "            cell.set_text_props(weight='bold')\n",
    "        elif i == len(table_data):\n",
    "            cell.set_facecolor('#FFE082')\n",
    "            cell.set_text_props(weight='bold')\n",
    "        else:\n",
    "            cell.set_facecolor('#F5F5F5' if i % 2 == 0 else 'white')\n",
    "\n",
    "ax4.set_title('Résumé des Performances', fontsize=12, pad=20)\n",
    "\n",
    "plt.tight_layout()\n",
    "plt.show()\n"
   ],
   "outputs": [
    {
     "data": {
      "text/plain": [
       "<Figure size 1200x800 with 4 Axes>"
      ],
      "image/png": "[encoded data removed]"
     },
     "metadata": {},
     "output_type": "display_data"
    }
   ],
   "execution_count": 13
  }
 ],
 "metadata": {
  "kernelspec": {
   "display_name": "Python 3",
   "language": "python",
   "name": "python3"
  },
  "language_info": {
   "codemirror_mode": {
    "name": "ipython",
    "version": 3
   },
   "file_extension": ".py",
   "mimetype": "text/x-python",
   "name": "python",
   "nbconvert_exporter": "python",
   "pygments_lexer": "ipython3",
   "version": "3.8.0"
  }
 },
 "nbformat": 4,
 "nbformat_minor": 4
}
