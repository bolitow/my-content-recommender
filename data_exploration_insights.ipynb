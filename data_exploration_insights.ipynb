{
 "cells": [
  {
   "cell_type": "markdown",
   "metadata": {},
   "source": "# My Content - Exploration Approfondie des Données\n\n## Objectif\nExplorer en profondeur les données du système de recommandation My Content pour:\n- Comprendre la structure et les patterns dans les données\n- Créer des labels interprétables pour les catégories et articles\n- Analyser les comportements utilisateurs\n- Identifier les insights clés pour améliorer le système de recommandation\n\n## Structure du notebook\n1. **Configuration et imports**\n2. **Nettoyage et préparation des données**\n3. **Chargement intelligent des données**\n4. **Exploration des métadonnées d'articles**\n5. **Analyse temporelle approfondie**\n6. **Création de labels pour les catégories**\n7. **Analyse des comportements utilisateurs**\n8. **Exploration des embeddings**\n9. **Insights et recommandations**"
  },
  {
   "cell_type": "markdown",
   "metadata": {},
   "source": [
    "## 1. Configuration et imports"
   ]
  },
  {
   "cell_type": "code",
   "metadata": {
    "ExecuteTime": {
     "end_time": "2025-09-12T09:29:53.445500Z",
     "start_time": "2025-09-12T09:29:53.083931Z"
    }
   },
   "source": "# Imports standards\nimport pandas as pd\nimport numpy as np\nimport matplotlib.pyplot as plt\nimport seaborn as sns\nimport pickle\nimport glob\nfrom datetime import datetime, timedelta\nimport warnings\nwarnings.filterwarnings('ignore')\n\n# Imports pour l'analyse avancée\nfrom scipy import stats\nfrom scipy.stats import chi2_contingency\nimport plotly.express as px\nimport plotly.graph_objects as go\nfrom plotly.subplots import make_subplots\n\n# Imports pour le traitement de texte et clustering\nfrom sklearn.preprocessing import StandardScaler, LabelEncoder\nfrom sklearn.decomposition import PCA, TruncatedSVD\nfrom sklearn.manifold import TSNE\nfrom sklearn.cluster import KMeans, DBSCAN\nfrom collections import defaultdict, Counter\n\n# Configuration des graphiques\nplt.style.use('seaborn-v0_8-darkgrid')\nsns.set_palette(\"husl\")\nplt.rcParams['figure.figsize'] = (14, 8)\nplt.rcParams['font.size'] = 11\nplt.rcParams['axes.titlesize'] = 14\nplt.rcParams['axes.labelsize'] = 12\nplt.rcParams['xtick.labelsize'] = 10\nplt.rcParams['ytick.labelsize'] = 10\nplt.rcParams['legend.fontsize'] = 10\nplt.rcParams['figure.dpi'] = 100\n\n# Configuration Plotly\nimport plotly.io as pio\npio.templates.default = \"plotly_white\"",
   "outputs": [],
   "execution_count": 1
  },
  {
   "cell_type": "markdown",
   "metadata": {},
   "source": [
    "## 2. Chargement intelligent des données"
   ]
  },
  {
   "cell_type": "code",
   "source": "# NETTOYAGE DES DONNÉES\nprint(\"NETTOYAGE ET VALIDATION DES DONNÉES\")\nprint(\"=\"*60)\n\n# Charger les données brutes\narticles_df_raw = pd.read_csv('data/articles_metadata.csv')\nprint(f\"Articles chargés (avant nettoyage): {len(articles_df_raw):,}\")\n\n# 1. ANALYSE DES PROBLÈMES\nzero_words = articles_df_raw[articles_df_raw['words_count'] == 0]\nvery_short = articles_df_raw[articles_df_raw['words_count'] < 10]\nvery_long = articles_df_raw[articles_df_raw['words_count'] > 1500]\n\n# 2. STRATÉGIE DE NETTOYAGE\n# Copier pour le nettoyage\narticles_df = articles_df_raw.copy()\n\n# A. Traiter les articles avec 0 mots\nmedian_by_category = articles_df.groupby('category_id')['words_count'].median()\nfor idx in articles_df[articles_df['words_count'] == 0].index:\n    cat_id = articles_df.loc[idx, 'category_id']\n    if cat_id in median_by_category.index:\n        articles_df.loc[idx, 'words_count'] = median_by_category[cat_id]\n    else:\n        articles_df.loc[idx, 'words_count'] = articles_df['words_count'].median()\n\n# B. Filtrer les valeurs extrêmes\ninitial_count = len(articles_df)\narticles_df = articles_df[(articles_df['words_count'] >= 10) & (articles_df['words_count'] <= 2000)]\n\n# C. Supprimer les doublons\narticles_df = articles_df.drop_duplicates(subset=['article_id'])\n\n# D. Validation des timestamps\narticles_df['created_at'] = pd.to_datetime(articles_df['created_at_ts'], unit='ms')\ndate_min = pd.Timestamp('2010-01-01')\ndate_max = pd.Timestamp.now()\nvalid_dates = (articles_df['created_at'] >= date_min) & (articles_df['created_at'] <= date_max)\narticles_df = articles_df[valid_dates]\n\n# E. Enrichissement des données\narticles_df['year'] = articles_df['created_at'].dt.year\narticles_df['month'] = articles_df['created_at'].dt.month\narticles_df['day_of_week'] = articles_df['created_at'].dt.day_name()\narticles_df['hour'] = articles_df['created_at'].dt.hour\n\narticles_df['word_count_category'] = pd.cut(\n    articles_df['words_count'],\n    bins=[0, 100, 200, 300, 500, 2000],\n    labels=['very_short', 'short', 'medium', 'long', 'very_long']\n)\n\nprint(f\"Articles après nettoyage: {len(articles_df):,}\")\nprint(f\"Taux de rétention: {len(articles_df)/len(articles_df_raw)*100:.1f}%\")",
   "metadata": {
    "ExecuteTime": {
     "end_time": "2025-09-12T09:29:53.645383Z",
     "start_time": "2025-09-12T09:29:53.515893Z"
    }
   },
   "outputs": [
    {
     "name": "stdout",
     "output_type": "stream",
     "text": [
      "NETTOYAGE ET VALIDATION DES DONNÉES\n",
      "============================================================\n",
      "Articles chargés (avant nettoyage): 364,047\n",
      "Articles après nettoyage: 363,919\n",
      "Taux de rétention: 100.0%\n"
     ]
    }
   ],
   "execution_count": 2
  },
  {
   "cell_type": "markdown",
   "source": "## 2. Nettoyage et préparation des données\n\nCette section assure la qualité des données avant l'analyse approfondie.",
   "metadata": {}
  },
  {
   "cell_type": "code",
   "source": "# Chargement des embeddings\nwith open('data/articles_embeddings.pickle', 'rb') as f:\n    articles_embeddings = pickle.load(f)\n\n# Analyse des embeddings\nembeddings_array = np.array(articles_embeddings)\nembeddings_stats = {\n    \"Nombre d'embeddings\": len(articles_embeddings),\n    \"Dimension des embeddings\": embeddings_array.shape[1],\n    \"Valeur moyenne\": embeddings_array.mean(),\n    \"Écart-type\": embeddings_array.std(),\n    \"Valeur min\": embeddings_array.min(),\n    \"Valeur max\": embeddings_array.max(),\n    \"Nombre de valeurs nulles\": (embeddings_array == 0).sum(),\n    \"Taille en mémoire (MB)\": embeddings_array.nbytes / 1024**2\n}\n\nprint(f\"Embeddings chargés: {embeddings_array.shape}\")\nprint(f\"Dimension: {embeddings_array.shape[1]}\")",
   "metadata": {
    "ExecuteTime": {
     "end_time": "2025-09-12T09:29:54.049396Z",
     "start_time": "2025-09-12T09:29:53.659771Z"
    }
   },
   "outputs": [
    {
     "name": "stdout",
     "output_type": "stream",
     "text": [
      "Embeddings chargés: (364047, 250)\n",
      "Dimension: 250\n"
     ]
    }
   ],
   "execution_count": 3
  },
  {
   "cell_type": "code",
   "metadata": {
    "ExecuteTime": {
     "end_time": "2025-09-12T09:29:54.170002Z",
     "start_time": "2025-09-12T09:29:54.060159Z"
    }
   },
   "source": "# Chargement des métadonnées des articles\narticles_df = pd.read_csv('data/articles_metadata.csv')\n\n# Conversion des timestamps en datetime pour une meilleure interprétabilité\narticles_df['created_at'] = pd.to_datetime(articles_df['created_at_ts'], unit='ms')\narticles_df['year'] = articles_df['created_at'].dt.year\narticles_df['month'] = articles_df['created_at'].dt.month\narticles_df['day_of_week'] = articles_df['created_at'].dt.day_name()\narticles_df['hour'] = articles_df['created_at'].dt.hour\n\n# Statistiques temporelles stockées dans un dictionnaire\nstats_temporelles = {\n    \"Date du premier article\": articles_df['created_at'].min().strftime('%Y-%m-%d'),\n    \"Date du dernier article\": articles_df['created_at'].max().strftime('%Y-%m-%d'),\n    \"Période couverte (années)\": (articles_df['created_at'].max() - articles_df['created_at'].min()).days / 365.25,\n    \"Nombre d'années uniques\": articles_df['year'].nunique(),\n    \"Année avec le plus d'articles\": articles_df['year'].value_counts().index[0]\n}\n\n# Aperçu des données\narticles_df.head()",
   "outputs": [
    {
     "data": {
      "text/plain": [
       "   article_id  category_id  created_at_ts  publisher_id  words_count  \\\n",
       "0           0            0  1513144419000             0          168   \n",
       "1           1            1  1405341936000             0          189   \n",
       "2           2            1  1408667706000             0          250   \n",
       "3           3            1  1408468313000             0          230   \n",
       "4           4            1  1407071171000             0          162   \n",
       "\n",
       "           created_at  year  month day_of_week  hour  \n",
       "0 2017-12-13 05:53:39  2017     12   Wednesday     5  \n",
       "1 2014-07-14 12:45:36  2014      7      Monday    12  \n",
       "2 2014-08-22 00:35:06  2014      8      Friday     0  \n",
       "3 2014-08-19 17:11:53  2014      8     Tuesday    17  \n",
       "4 2014-08-03 13:06:11  2014      8      Sunday    13  "
      ],
      "text/html": [
       "<div>\n",
       "<style scoped>\n",
       "    .dataframe tbody tr th:only-of-type {\n",
       "        vertical-align: middle;\n",
       "    }\n",
       "\n",
       "    .dataframe tbody tr th {\n",
       "        vertical-align: top;\n",
       "    }\n",
       "\n",
       "    .dataframe thead th {\n",
       "        text-align: right;\n",
       "    }\n",
       "</style>\n",
       "<table border=\"1\" class=\"dataframe\">\n",
       "  <thead>\n",
       "    <tr style=\"text-align: right;\">\n",
       "      <th></th>\n",
       "      <th>article_id</th>\n",
       "      <th>category_id</th>\n",
       "      <th>created_at_ts</th>\n",
       "      <th>publisher_id</th>\n",
       "      <th>words_count</th>\n",
       "      <th>created_at</th>\n",
       "      <th>year</th>\n",
       "      <th>month</th>\n",
       "      <th>day_of_week</th>\n",
       "      <th>hour</th>\n",
       "    </tr>\n",
       "  </thead>\n",
       "  <tbody>\n",
       "    <tr>\n",
       "      <th>0</th>\n",
       "      <td>0</td>\n",
       "      <td>0</td>\n",
       "      <td>1513144419000</td>\n",
       "      <td>0</td>\n",
       "      <td>168</td>\n",
       "      <td>2017-12-13 05:53:39</td>\n",
       "      <td>2017</td>\n",
       "      <td>12</td>\n",
       "      <td>Wednesday</td>\n",
       "      <td>5</td>\n",
       "    </tr>\n",
       "    <tr>\n",
       "      <th>1</th>\n",
       "      <td>1</td>\n",
       "      <td>1</td>\n",
       "      <td>1405341936000</td>\n",
       "      <td>0</td>\n",
       "      <td>189</td>\n",
       "      <td>2014-07-14 12:45:36</td>\n",
       "      <td>2014</td>\n",
       "      <td>7</td>\n",
       "      <td>Monday</td>\n",
       "      <td>12</td>\n",
       "    </tr>\n",
       "    <tr>\n",
       "      <th>2</th>\n",
       "      <td>2</td>\n",
       "      <td>1</td>\n",
       "      <td>1408667706000</td>\n",
       "      <td>0</td>\n",
       "      <td>250</td>\n",
       "      <td>2014-08-22 00:35:06</td>\n",
       "      <td>2014</td>\n",
       "      <td>8</td>\n",
       "      <td>Friday</td>\n",
       "      <td>0</td>\n",
       "    </tr>\n",
       "    <tr>\n",
       "      <th>3</th>\n",
       "      <td>3</td>\n",
       "      <td>1</td>\n",
       "      <td>1408468313000</td>\n",
       "      <td>0</td>\n",
       "      <td>230</td>\n",
       "      <td>2014-08-19 17:11:53</td>\n",
       "      <td>2014</td>\n",
       "      <td>8</td>\n",
       "      <td>Tuesday</td>\n",
       "      <td>17</td>\n",
       "    </tr>\n",
       "    <tr>\n",
       "      <th>4</th>\n",
       "      <td>4</td>\n",
       "      <td>1</td>\n",
       "      <td>1407071171000</td>\n",
       "      <td>0</td>\n",
       "      <td>162</td>\n",
       "      <td>2014-08-03 13:06:11</td>\n",
       "      <td>2014</td>\n",
       "      <td>8</td>\n",
       "      <td>Sunday</td>\n",
       "      <td>13</td>\n",
       "    </tr>\n",
       "  </tbody>\n",
       "</table>\n",
       "</div>"
      ]
     },
     "execution_count": 4,
     "metadata": {},
     "output_type": "execute_result"
    }
   ],
   "execution_count": 4
  },
  {
   "cell_type": "code",
   "metadata": {
    "ExecuteTime": {
     "end_time": "2025-09-12T09:29:54.631740Z",
     "start_time": "2025-09-12T09:29:54.194837Z"
    }
   },
   "source": "# Chargement progressif de tous les fichiers de clics\nclick_files = sorted(glob.glob('data/clicks/clicks_hour_*.csv'))\n\ndef load_clicks_intelligently(files, sample_size=50):\n    \"\"\"Charge les fichiers de clics de manière intelligente avec nettoyage\"\"\"\n    all_clicks = []\n    total_rows = 0\n    file_stats = []\n    \n    for i, file in enumerate(files[:sample_size]):\n        df_temp = pd.read_csv(file)\n        all_clicks.append(df_temp)\n        total_rows += len(df_temp)\n        \n        file_stats.append({\n            'file_index': i,\n            'rows': len(df_temp),\n            'users': df_temp['user_id'].nunique(),\n            'articles': df_temp['click_article_id'].nunique()\n        })\n    \n    clicks_df = pd.concat(all_clicks, ignore_index=True)\n    return clicks_df, pd.DataFrame(file_stats)\n\n# Charger les données\nclicks_df_raw, file_stats_df = load_clicks_intelligently(click_files, sample_size=50)\n\n# NETTOYAGE DES DONNÉES DE CLICS\nclicks_df = clicks_df_raw.copy()\n\n# 1. Supprimer les doublons\nclicks_df = clicks_df.drop_duplicates()\n\n# 2. Filtrer les sessions anormales\nclicks_df = clicks_df[clicks_df['session_size'] <= 200]\n\n# 3. Valider que les articles cliqués existent dans les métadonnées\nvalid_articles = set(articles_df['article_id'].unique())\nclicks_df = clicks_df[clicks_df['click_article_id'].isin(valid_articles)]\n\n# 4. Enrichir les données de clics\nclicks_df['session_start_dt'] = pd.to_datetime(clicks_df['session_start'], unit='ms')\nclicks_df['click_timestamp_dt'] = pd.to_datetime(clicks_df['click_timestamp'], unit='ms')\nclicks_df['hour_of_day'] = clicks_df['click_timestamp_dt'].dt.hour\nclicks_df['day_of_week'] = clicks_df['click_timestamp_dt'].dt.day_name()\n\n# 5. Calculer des métriques dérivées\nclicks_df['time_to_click'] = (clicks_df['click_timestamp'] - clicks_df['session_start']) / 1000\n\n# Filtrer les temps de clic anormaux\nclicks_df = clicks_df[(clicks_df['time_to_click'] >= 0) & (clicks_df['time_to_click'] <= 3600)]\n\nprint(f\"Clics après nettoyage: {len(clicks_df):,}\")\nprint(f\"Taux de rétention: {len(clicks_df)/len(clicks_df_raw)*100:.1f}%\")\n\n# Statistiques sur les fichiers\nfile_loading_stats = {\n    \"Moyenne de lignes par fichier\": file_stats_df['rows'].mean(),\n    \"Min lignes\": file_stats_df['rows'].min(),\n    \"Max lignes\": file_stats_df['rows'].max(),\n    \"Écart-type\": file_stats_df['rows'].std()\n}",
   "outputs": [
    {
     "name": "stdout",
     "output_type": "stream",
     "text": [
      "Clics après nettoyage: 412,634\n",
      "Taux de rétention: 92.0%\n"
     ]
    }
   ],
   "execution_count": 5
  },
  {
   "cell_type": "code",
   "metadata": {
    "ExecuteTime": {
     "end_time": "2025-09-12T09:29:54.666708Z",
     "start_time": "2025-09-12T09:29:54.660945Z"
    }
   },
   "source": "# Chargement des données de clics - échantillon\nclicks_sample = pd.read_csv('data/clicks_sample.csv')\n\n# Conversion des timestamps\nclicks_sample['session_start_dt'] = pd.to_datetime(clicks_sample['session_start'], unit='ms')\nclicks_sample['click_timestamp_dt'] = pd.to_datetime(clicks_sample['click_timestamp'], unit='ms')\n\n# Calcul de métriques dérivées\nclicks_sample['time_to_click'] = (clicks_sample['click_timestamp'] - clicks_sample['session_start']) / 1000  # en secondes\nclicks_sample['hour_of_day'] = clicks_sample['click_timestamp_dt'].dt.hour\nclicks_sample['day_of_week'] = clicks_sample['click_timestamp_dt'].dt.day_name()\n\n# Statistiques des sessions stockées dans un dictionnaire\nsession_stats = {\n    \"Utilisateurs uniques\": clicks_sample['user_id'].nunique(),\n    \"Sessions uniques\": clicks_sample['session_id'].nunique(),\n    \"Articles uniques cliqués\": clicks_sample['click_article_id'].nunique(),\n    \"Taille moyenne de session\": clicks_sample['session_size'].mean(),\n    \"Temps moyen avant clic (sec)\": clicks_sample['time_to_click'].mean(),\n    \"Environnements uniques\": clicks_sample['click_environment'].nunique(),\n    \"Pays uniques\": clicks_sample['click_country'].nunique(),\n    \"Régions uniques\": clicks_sample['click_region'].nunique()\n}",
   "outputs": [],
   "execution_count": 6
  },
  {
   "cell_type": "code",
   "metadata": {
    "ExecuteTime": {
     "end_time": "2025-09-12T09:29:54.975108Z",
     "start_time": "2025-09-12T09:29:54.706986Z"
    }
   },
   "source": "# Chargement progressif de tous les fichiers de clics\nclick_files = sorted(glob.glob('data/clicks/clicks_hour_*.csv'))\n\n# Stratégie de chargement adaptative\ndef load_clicks_intelligently(files, sample_size=50):\n    \"\"\"Charge les fichiers de clics de manière intelligente\"\"\"\n    all_clicks = []\n    total_rows = 0\n    file_stats = []\n    \n    for i, file in enumerate(files[:sample_size]):\n        df_temp = pd.read_csv(file)\n        all_clicks.append(df_temp)\n        total_rows += len(df_temp)\n        \n        # Collecter des statistiques sur chaque fichier\n        file_stats.append({\n            'file_index': i,\n            'rows': len(df_temp),\n            'users': df_temp['user_id'].nunique(),\n            'articles': df_temp['click_article_id'].nunique()\n        })\n    \n    # Concatener tous les DataFrames\n    clicks_df = pd.concat(all_clicks, ignore_index=True)\n    \n    return clicks_df, pd.DataFrame(file_stats)\n\n# Charger les données\nclicks_df, file_stats_df = load_clicks_intelligently(click_files, sample_size=50)\n\n# Enrichir les données de clics\nclicks_df['session_start_dt'] = pd.to_datetime(clicks_df['session_start'], unit='ms')\nclicks_df['click_timestamp_dt'] = pd.to_datetime(clicks_df['click_timestamp'], unit='ms')\nclicks_df['hour_of_day'] = clicks_df['click_timestamp_dt'].dt.hour\nclicks_df['day_of_week'] = clicks_df['click_timestamp_dt'].dt.day_name()\n\n# Statistiques sur les fichiers stockées\nfile_loading_stats = {\n    \"Moyenne de lignes par fichier\": file_stats_df['rows'].mean(),\n    \"Min lignes\": file_stats_df['rows'].min(),\n    \"Max lignes\": file_stats_df['rows'].max(),\n    \"Écart-type\": file_stats_df['rows'].std()\n}",
   "outputs": [],
   "execution_count": 7
  },
  {
   "cell_type": "markdown",
   "source": "## 2.1 Analyse des données manquantes\n\nExamen détaillé des valeurs manquantes dans nos datasets pour identifier les patterns et définir des stratégies de traitement appropriées.",
   "metadata": {}
  },
  {
   "cell_type": "code",
   "source": "# Analyse des données manquantes - Articles\nprint(\"ANALYSE DES DONNÉES MANQUANTES - ARTICLES\")\n\n# Charger les données brutes pour l'analyse\narticles_raw = pd.read_csv('data/articles_metadata.csv')\n\n# Fonction pour analyser les valeurs manquantes\ndef analyze_missing_data(df, df_name):\n    \"\"\"Analyse détaillée des valeurs manquantes dans un DataFrame\"\"\"\n    \n    missing_info = pd.DataFrame({\n        'Colonne': df.columns,\n        'Type': df.dtypes.values,\n        'Valeurs_Manquantes': df.isnull().sum().values,\n        'Pourcentage_Manquant': (df.isnull().sum().values / len(df) * 100).round(2),\n        'Valeurs_Uniques': [df[col].nunique() for col in df.columns],\n        'Valeurs_Zero': [(df[col] == 0).sum() if df[col].dtype in ['int64', 'float64'] else 0 for col in df.columns]\n    })\n    \n    missing_info['Valeurs_Vides'] = [\n        (df[col] == '').sum() if df[col].dtype == 'object' else 0 \n        for col in df.columns\n    ]\n    \n    # Trier par pourcentage de valeurs manquantes\n    missing_info = missing_info.sort_values('Pourcentage_Manquant', ascending=False)\n    \n    return missing_info\n\n# Analyser les articles\narticles_missing = analyze_missing_data(articles_raw, 'Articles')\n\nprint(\"\\nRésumé des valeurs manquantes - Articles:\")\nprint(f\"  Nombre total de lignes: {len(articles_raw):,}\")\nprint(f\"  Nombre total de colonnes: {len(articles_raw.columns)}\")\nprint(f\"  Colonnes avec valeurs manquantes: {(articles_missing['Valeurs_Manquantes'] > 0).sum()}\")\nprint(f\"  Colonnes avec valeurs zéro: {(articles_missing['Valeurs_Zero'] > 0).sum()}\")\n\n# Afficher le détail\nprint(\"\\nDétail par colonne:\")\ndisplay(articles_missing)\n\n# Analyse spécifique des problèmes\nprint(\"\\nProblèmes identifiés:\")\n\n# Articles avec 0 mots\nzero_words_count = (articles_raw['words_count'] == 0).sum()\nif zero_words_count > 0:\n    print(f\"  {zero_words_count:,} articles avec 0 mots ({zero_words_count/len(articles_raw)*100:.2f}%)\")\n    \n    # Analyser la distribution par catégorie\n    zero_words_by_cat = articles_raw[articles_raw['words_count'] == 0]['category_id'].value_counts().head(5)\n    print(\"    Top 5 catégories avec articles à 0 mots:\")\n    for cat_id, count in zero_words_by_cat.items():\n        print(f\"      Catégorie {cat_id}: {count} articles\")\n\n# Valeurs extrêmes\nprint(f\"\\n  Valeurs extrêmes dans words_count:\")\nprint(f\"    Min: {articles_raw['words_count'].min()}\")\nprint(f\"    Max: {articles_raw['words_count'].max()}\")\nprint(f\"    Articles < 10 mots: {(articles_raw['words_count'] < 10).sum():,}\")\nprint(f\"    Articles > 2000 mots: {(articles_raw['words_count'] > 2000).sum():,}\")\n\n# Timestamps invalides\narticles_raw['created_at_temp'] = pd.to_datetime(articles_raw['created_at_ts'], unit='ms', errors='coerce')\ninvalid_timestamps = articles_raw['created_at_temp'].isnull().sum()\nif invalid_timestamps > 0:\n    print(f\"\\n  {invalid_timestamps} timestamps invalides\")\n\n# Dates aberrantes\ndate_min = pd.Timestamp('2000-01-01')\ndate_max = pd.Timestamp.now()\ndates_out_of_range = ((articles_raw['created_at_temp'] < date_min) | \n                      (articles_raw['created_at_temp'] > date_max)).sum()\nif dates_out_of_range > 0:\n    print(f\"  {dates_out_of_range} dates hors plage raisonnable\")\n\n# Doublons\nduplicates = articles_raw.duplicated(subset=['article_id']).sum()\nif duplicates > 0:\n    print(f\"\\n  {duplicates} doublons sur article_id\")",
   "metadata": {
    "ExecuteTime": {
     "end_time": "2025-09-12T09:29:55.078436Z",
     "start_time": "2025-09-12T09:29:54.990091Z"
    }
   },
   "outputs": [
    {
     "name": "stdout",
     "output_type": "stream",
     "text": [
      "ANALYSE DES DONNÉES MANQUANTES - ARTICLES\n",
      "\n",
      "Résumé des valeurs manquantes - Articles:\n",
      "  Nombre total de lignes: 364,047\n",
      "  Nombre total de colonnes: 5\n",
      "  Colonnes avec valeurs manquantes: 0\n",
      "  Colonnes avec valeurs zéro: 4\n",
      "\n",
      "Détail par colonne:\n"
     ]
    },
    {
     "data": {
      "text/plain": [
       "         Colonne   Type  Valeurs_Manquantes  Pourcentage_Manquant  \\\n",
       "0     article_id  int64                   0                   0.0   \n",
       "1    category_id  int64                   0                   0.0   \n",
       "2  created_at_ts  int64                   0                   0.0   \n",
       "3   publisher_id  int64                   0                   0.0   \n",
       "4    words_count  int64                   0                   0.0   \n",
       "\n",
       "   Valeurs_Uniques  Valeurs_Zero  Valeurs_Vides  \n",
       "0           364047             1              0  \n",
       "1              461             1              0  \n",
       "2           359552             0              0  \n",
       "3                1        364047              0  \n",
       "4              866            35              0  "
      ],
      "text/html": [
       "<div>\n",
       "<style scoped>\n",
       "    .dataframe tbody tr th:only-of-type {\n",
       "        vertical-align: middle;\n",
       "    }\n",
       "\n",
       "    .dataframe tbody tr th {\n",
       "        vertical-align: top;\n",
       "    }\n",
       "\n",
       "    .dataframe thead th {\n",
       "        text-align: right;\n",
       "    }\n",
       "</style>\n",
       "<table border=\"1\" class=\"dataframe\">\n",
       "  <thead>\n",
       "    <tr style=\"text-align: right;\">\n",
       "      <th></th>\n",
       "      <th>Colonne</th>\n",
       "      <th>Type</th>\n",
       "      <th>Valeurs_Manquantes</th>\n",
       "      <th>Pourcentage_Manquant</th>\n",
       "      <th>Valeurs_Uniques</th>\n",
       "      <th>Valeurs_Zero</th>\n",
       "      <th>Valeurs_Vides</th>\n",
       "    </tr>\n",
       "  </thead>\n",
       "  <tbody>\n",
       "    <tr>\n",
       "      <th>0</th>\n",
       "      <td>article_id</td>\n",
       "      <td>int64</td>\n",
       "      <td>0</td>\n",
       "      <td>0.0</td>\n",
       "      <td>364047</td>\n",
       "      <td>1</td>\n",
       "      <td>0</td>\n",
       "    </tr>\n",
       "    <tr>\n",
       "      <th>1</th>\n",
       "      <td>category_id</td>\n",
       "      <td>int64</td>\n",
       "      <td>0</td>\n",
       "      <td>0.0</td>\n",
       "      <td>461</td>\n",
       "      <td>1</td>\n",
       "      <td>0</td>\n",
       "    </tr>\n",
       "    <tr>\n",
       "      <th>2</th>\n",
       "      <td>created_at_ts</td>\n",
       "      <td>int64</td>\n",
       "      <td>0</td>\n",
       "      <td>0.0</td>\n",
       "      <td>359552</td>\n",
       "      <td>0</td>\n",
       "      <td>0</td>\n",
       "    </tr>\n",
       "    <tr>\n",
       "      <th>3</th>\n",
       "      <td>publisher_id</td>\n",
       "      <td>int64</td>\n",
       "      <td>0</td>\n",
       "      <td>0.0</td>\n",
       "      <td>1</td>\n",
       "      <td>364047</td>\n",
       "      <td>0</td>\n",
       "    </tr>\n",
       "    <tr>\n",
       "      <th>4</th>\n",
       "      <td>words_count</td>\n",
       "      <td>int64</td>\n",
       "      <td>0</td>\n",
       "      <td>0.0</td>\n",
       "      <td>866</td>\n",
       "      <td>35</td>\n",
       "      <td>0</td>\n",
       "    </tr>\n",
       "  </tbody>\n",
       "</table>\n",
       "</div>"
      ]
     },
     "metadata": {},
     "output_type": "display_data"
    },
    {
     "name": "stdout",
     "output_type": "stream",
     "text": [
      "\n",
      "Problèmes identifiés:\n",
      "  35 articles avec 0 mots (0.01%)\n",
      "    Top 5 catégories avec articles à 0 mots:\n",
      "      Catégorie 431: 19 articles\n",
      "      Catégorie 343: 3 articles\n",
      "      Catégorie 64: 2 articles\n",
      "      Catégorie 375: 2 articles\n",
      "      Catégorie 43: 1 articles\n",
      "\n",
      "  Valeurs extrêmes dans words_count:\n",
      "    Min: 0\n",
      "    Max: 6690\n",
      "    Articles < 10 mots: 87\n",
      "    Articles > 2000 mots: 14\n"
     ]
    }
   ],
   "execution_count": 8
  },
  {
   "metadata": {
    "ExecuteTime": {
     "end_time": "2025-09-12T09:29:55.308013Z",
     "start_time": "2025-09-12T09:29:55.131703Z"
    }
   },
   "cell_type": "code",
   "source": "# Analyse des données manquantes - Clics\nprint(\"\\nANALYSE DES DONNÉES MANQUANTES - CLICS\")\n\n# S'assurer que la colonne time_to_click existe\nif 'time_to_click' not in clicks_df.columns:\n    print(\"Création de la colonne time_to_click...\")\n    clicks_df['session_start_dt'] = pd.to_datetime(clicks_df['session_start'], unit='ms', errors='coerce')\n    clicks_df['click_timestamp_dt'] = pd.to_datetime(clicks_df['click_timestamp'], unit='ms', errors='coerce')\n    clicks_df['time_to_click'] = (clicks_df['click_timestamp'] - clicks_df['session_start']) / 1000\n    clicks_df['hour_of_day'] = clicks_df['click_timestamp_dt'].dt.hour\n    clicks_df['day_of_week'] = clicks_df['click_timestamp_dt'].dt.day_name()\n\n# Analyser les clics\nclicks_missing = analyze_missing_data(clicks_df, 'Clicks')\n\nprint(\"\\nRésumé des valeurs manquantes - Clics:\")\nprint(f\"  Nombre total de lignes: {len(clicks_df):,}\")\nprint(f\"  Nombre total de colonnes: {len(clicks_df.columns)}\")\nprint(f\"  Colonnes avec valeurs manquantes: {(clicks_missing['Valeurs_Manquantes'] > 0).sum()}\")\n\n# Afficher le détail\nprint(\"\\nDétail par colonne:\")\ndisplay(clicks_missing)\n\n# Analyse spécifique des problèmes dans les clics\nprint(\"\\nProblèmes identifiés dans les données de clics:\")\n\n# Sessions anormalement grandes\nlarge_sessions = (clicks_df['session_size'] > 100).sum()\nif large_sessions > 0:\n    print(f\"  {large_sessions:,} clics dans des sessions > 100 articles\")\n    print(f\"    Session max: {clicks_df['session_size'].max()} articles\")\n\n# Temps de clic négatifs ou très longs\nif 'time_to_click' in clicks_df.columns:\n    negative_time = (clicks_df['time_to_click'] < 0).sum()\n    if negative_time > 0:\n        print(f\"\\n  {negative_time} clics avec temps négatif (timestamp incohérent)\")\n    \n    very_long_time = (clicks_df['time_to_click'] > 3600).sum()\n    if very_long_time > 0:\n        print(f\"  {very_long_time} clics après plus d'1 heure de session\")\n\n# Articles cliqués qui n'existent pas dans les métadonnées\nvalid_articles = set(articles_df['article_id'].unique())\nclicks_articles = set(clicks_df['click_article_id'].unique())\nmissing_articles = clicks_articles - valid_articles\nif missing_articles:\n    print(f\"\\n  {len(missing_articles)} articles cliqués absents des métadonnées\")\n    print(f\"    Clics concernés: {clicks_df['click_article_id'].isin(missing_articles).sum():,}\")\n\n# Valeurs manquantes dans les champs géographiques\ngeo_columns = ['click_country', 'click_region', 'click_referrer_code']\nfor col in geo_columns:\n    if col in clicks_df.columns:\n        null_count = clicks_df[col].isnull().sum()\n        if null_count > 0:\n            print(f\"\\n  {null_count:,} valeurs manquantes dans {col} ({null_count/len(clicks_df)*100:.2f}%)\")",
   "outputs": [
    {
     "name": "stdout",
     "output_type": "stream",
     "text": [
      "\n",
      "ANALYSE DES DONNÉES MANQUANTES - CLICS\n",
      "Création de la colonne time_to_click...\n",
      "\n",
      "Résumé des valeurs manquantes - Clics:\n",
      "  Nombre total de lignes: 448,380\n",
      "  Nombre total de colonnes: 17\n",
      "  Colonnes avec valeurs manquantes: 0\n",
      "\n",
      "Détail par colonne:\n"
     ]
    },
    {
     "data": {
      "text/plain": [
       "                Colonne            Type  Valeurs_Manquantes  \\\n",
       "0               user_id           int64                   0   \n",
       "9         click_country           int64                   0   \n",
       "15          day_of_week          object                   0   \n",
       "14          hour_of_day           int32                   0   \n",
       "13   click_timestamp_dt  datetime64[ns]                   0   \n",
       "12     session_start_dt  datetime64[ns]                   0   \n",
       "11  click_referrer_type           int64                   0   \n",
       "10         click_region           int64                   0   \n",
       "8              click_os           int64                   0   \n",
       "1            session_id           int64                   0   \n",
       "7     click_deviceGroup           int64                   0   \n",
       "6     click_environment           int64                   0   \n",
       "5       click_timestamp           int64                   0   \n",
       "4      click_article_id           int64                   0   \n",
       "3          session_size           int64                   0   \n",
       "2         session_start           int64                   0   \n",
       "16        time_to_click         float64                   0   \n",
       "\n",
       "    Pourcentage_Manquant  Valeurs_Uniques  Valeurs_Zero  Valeurs_Vides  \n",
       "0                    0.0           117185             2              0  \n",
       "9                    0.0               11             0              0  \n",
       "15                   0.0                7             0              0  \n",
       "14                   0.0               24             0              0  \n",
       "13                   0.0           447460             0              0  \n",
       "12                   0.0            90466             0              0  \n",
       "11                   0.0                7             0              0  \n",
       "10                   0.0               28             0              0  \n",
       "8                    0.0                8             0              0  \n",
       "1                    0.0           162020             0              0  \n",
       "7                    0.0                4             0              0  \n",
       "6                    0.0                3             0              0  \n",
       "5                    0.0           447460             0              0  \n",
       "4                    0.0             9386             0              0  \n",
       "3                    0.0               42             0              0  \n",
       "2                    0.0            90466             0              0  \n",
       "16                   0.0           346899             7              0  "
      ],
      "text/html": [
       "<div>\n",
       "<style scoped>\n",
       "    .dataframe tbody tr th:only-of-type {\n",
       "        vertical-align: middle;\n",
       "    }\n",
       "\n",
       "    .dataframe tbody tr th {\n",
       "        vertical-align: top;\n",
       "    }\n",
       "\n",
       "    .dataframe thead th {\n",
       "        text-align: right;\n",
       "    }\n",
       "</style>\n",
       "<table border=\"1\" class=\"dataframe\">\n",
       "  <thead>\n",
       "    <tr style=\"text-align: right;\">\n",
       "      <th></th>\n",
       "      <th>Colonne</th>\n",
       "      <th>Type</th>\n",
       "      <th>Valeurs_Manquantes</th>\n",
       "      <th>Pourcentage_Manquant</th>\n",
       "      <th>Valeurs_Uniques</th>\n",
       "      <th>Valeurs_Zero</th>\n",
       "      <th>Valeurs_Vides</th>\n",
       "    </tr>\n",
       "  </thead>\n",
       "  <tbody>\n",
       "    <tr>\n",
       "      <th>0</th>\n",
       "      <td>user_id</td>\n",
       "      <td>int64</td>\n",
       "      <td>0</td>\n",
       "      <td>0.0</td>\n",
       "      <td>117185</td>\n",
       "      <td>2</td>\n",
       "      <td>0</td>\n",
       "    </tr>\n",
       "    <tr>\n",
       "      <th>9</th>\n",
       "      <td>click_country</td>\n",
       "      <td>int64</td>\n",
       "      <td>0</td>\n",
       "      <td>0.0</td>\n",
       "      <td>11</td>\n",
       "      <td>0</td>\n",
       "      <td>0</td>\n",
       "    </tr>\n",
       "    <tr>\n",
       "      <th>15</th>\n",
       "      <td>day_of_week</td>\n",
       "      <td>object</td>\n",
       "      <td>0</td>\n",
       "      <td>0.0</td>\n",
       "      <td>7</td>\n",
       "      <td>0</td>\n",
       "      <td>0</td>\n",
       "    </tr>\n",
       "    <tr>\n",
       "      <th>14</th>\n",
       "      <td>hour_of_day</td>\n",
       "      <td>int32</td>\n",
       "      <td>0</td>\n",
       "      <td>0.0</td>\n",
       "      <td>24</td>\n",
       "      <td>0</td>\n",
       "      <td>0</td>\n",
       "    </tr>\n",
       "    <tr>\n",
       "      <th>13</th>\n",
       "      <td>click_timestamp_dt</td>\n",
       "      <td>datetime64[ns]</td>\n",
       "      <td>0</td>\n",
       "      <td>0.0</td>\n",
       "      <td>447460</td>\n",
       "      <td>0</td>\n",
       "      <td>0</td>\n",
       "    </tr>\n",
       "    <tr>\n",
       "      <th>12</th>\n",
       "      <td>session_start_dt</td>\n",
       "      <td>datetime64[ns]</td>\n",
       "      <td>0</td>\n",
       "      <td>0.0</td>\n",
       "      <td>90466</td>\n",
       "      <td>0</td>\n",
       "      <td>0</td>\n",
       "    </tr>\n",
       "    <tr>\n",
       "      <th>11</th>\n",
       "      <td>click_referrer_type</td>\n",
       "      <td>int64</td>\n",
       "      <td>0</td>\n",
       "      <td>0.0</td>\n",
       "      <td>7</td>\n",
       "      <td>0</td>\n",
       "      <td>0</td>\n",
       "    </tr>\n",
       "    <tr>\n",
       "      <th>10</th>\n",
       "      <td>click_region</td>\n",
       "      <td>int64</td>\n",
       "      <td>0</td>\n",
       "      <td>0.0</td>\n",
       "      <td>28</td>\n",
       "      <td>0</td>\n",
       "      <td>0</td>\n",
       "    </tr>\n",
       "    <tr>\n",
       "      <th>8</th>\n",
       "      <td>click_os</td>\n",
       "      <td>int64</td>\n",
       "      <td>0</td>\n",
       "      <td>0.0</td>\n",
       "      <td>8</td>\n",
       "      <td>0</td>\n",
       "      <td>0</td>\n",
       "    </tr>\n",
       "    <tr>\n",
       "      <th>1</th>\n",
       "      <td>session_id</td>\n",
       "      <td>int64</td>\n",
       "      <td>0</td>\n",
       "      <td>0.0</td>\n",
       "      <td>162020</td>\n",
       "      <td>0</td>\n",
       "      <td>0</td>\n",
       "    </tr>\n",
       "    <tr>\n",
       "      <th>7</th>\n",
       "      <td>click_deviceGroup</td>\n",
       "      <td>int64</td>\n",
       "      <td>0</td>\n",
       "      <td>0.0</td>\n",
       "      <td>4</td>\n",
       "      <td>0</td>\n",
       "      <td>0</td>\n",
       "    </tr>\n",
       "    <tr>\n",
       "      <th>6</th>\n",
       "      <td>click_environment</td>\n",
       "      <td>int64</td>\n",
       "      <td>0</td>\n",
       "      <td>0.0</td>\n",
       "      <td>3</td>\n",
       "      <td>0</td>\n",
       "      <td>0</td>\n",
       "    </tr>\n",
       "    <tr>\n",
       "      <th>5</th>\n",
       "      <td>click_timestamp</td>\n",
       "      <td>int64</td>\n",
       "      <td>0</td>\n",
       "      <td>0.0</td>\n",
       "      <td>447460</td>\n",
       "      <td>0</td>\n",
       "      <td>0</td>\n",
       "    </tr>\n",
       "    <tr>\n",
       "      <th>4</th>\n",
       "      <td>click_article_id</td>\n",
       "      <td>int64</td>\n",
       "      <td>0</td>\n",
       "      <td>0.0</td>\n",
       "      <td>9386</td>\n",
       "      <td>0</td>\n",
       "      <td>0</td>\n",
       "    </tr>\n",
       "    <tr>\n",
       "      <th>3</th>\n",
       "      <td>session_size</td>\n",
       "      <td>int64</td>\n",
       "      <td>0</td>\n",
       "      <td>0.0</td>\n",
       "      <td>42</td>\n",
       "      <td>0</td>\n",
       "      <td>0</td>\n",
       "    </tr>\n",
       "    <tr>\n",
       "      <th>2</th>\n",
       "      <td>session_start</td>\n",
       "      <td>int64</td>\n",
       "      <td>0</td>\n",
       "      <td>0.0</td>\n",
       "      <td>90466</td>\n",
       "      <td>0</td>\n",
       "      <td>0</td>\n",
       "    </tr>\n",
       "    <tr>\n",
       "      <th>16</th>\n",
       "      <td>time_to_click</td>\n",
       "      <td>float64</td>\n",
       "      <td>0</td>\n",
       "      <td>0.0</td>\n",
       "      <td>346899</td>\n",
       "      <td>7</td>\n",
       "      <td>0</td>\n",
       "    </tr>\n",
       "  </tbody>\n",
       "</table>\n",
       "</div>"
      ]
     },
     "metadata": {},
     "output_type": "display_data"
    },
    {
     "name": "stdout",
     "output_type": "stream",
     "text": [
      "\n",
      "Problèmes identifiés dans les données de clics:\n",
      "  35746 clics après plus d'1 heure de session\n"
     ]
    }
   ],
   "execution_count": 9
  },
  {
   "metadata": {
    "ExecuteTime": {
     "end_time": "2025-09-12T09:30:01.241668Z",
     "start_time": "2025-09-12T09:29:55.346409Z"
    }
   },
   "cell_type": "code",
   "source": [
    "# Visualisations OPTIMISÉES des données manquantes et problématiques\n",
    "print(\"\\nVISUALISATIONS GRAPHIQUES\")\n",
    "\n",
    "# S'assurer que time_to_click existe\n",
    "if 'time_to_click' not in clicks_df.columns:\n",
    "    clicks_df['time_to_click'] = (clicks_df['click_timestamp'] - clicks_df['session_start']) / 1000\n",
    "\n",
    "# Créer une figure avec seulement les graphiques pertinents (2x3 au lieu de 3x3)\n",
    "fig = plt.figure(figsize=(18, 12))\n",
    "\n",
    "# 1. Heatmap des valeurs manquantes - Articles (PERTINENT)\n",
    "ax1 = plt.subplot(2, 3, 1)\n",
    "missing_matrix = articles_raw.isnull().astype(int)\n",
    "sns.heatmap(missing_matrix.T, cbar=True, cmap='RdYlBu_r',\n",
    "            yticklabels=articles_raw.columns, xticklabels=False, ax=ax1)\n",
    "ax1.set_title('Heatmap des valeurs manquantes - Articles', fontsize=12, fontweight='bold')\n",
    "ax1.set_xlabel('Échantillon d\\'articles')\n",
    "\n",
    "# 2. Pourcentage de valeurs problématiques par colonne (PERTINENT - modifié)\n",
    "ax2 = plt.subplot(2, 3, 2)\n",
    "# Analyse des valeurs problématiques au lieu des valeurs manquantes\n",
    "problem_data = pd.Series({\n",
    "    'words_count=0': (articles_raw['words_count'] == 0).sum(),\n",
    "    'words_count<10': (articles_raw['words_count'] < 10).sum(),\n",
    "    'publisher_id': (articles_raw['publisher_id'] == 0).sum(),\n",
    "    'category_id': (articles_raw['category_id'] == 0).sum(),\n",
    "    'article_id': (articles_raw['article_id'] == 0).sum()\n",
    "})\n",
    "problem_pct = (problem_data / len(articles_raw) * 100).sort_values(ascending=False)\n",
    "colors = ['red' if x > 0.05 else 'orange' if x > 0.01 else 'green' for x in problem_pct.values]\n",
    "problem_pct.plot(kind='barh', ax=ax2, color=colors)\n",
    "ax2.set_title('Pourcentage de valeurs problématiques', fontsize=12, fontweight='bold')\n",
    "ax2.set_xlabel('Pourcentage (%)')\n",
    "ax2.grid(axis='x', alpha=0.3)\n",
    "\n",
    "# 3. Top catégories avec articles problématiques (PERTINENT)\n",
    "ax3 = plt.subplot(2, 3, 3)\n",
    "problem_categories = articles_raw[articles_raw['words_count'] <= 10].groupby('category_id').size().nlargest(10)\n",
    "ax3.barh(range(len(problem_categories)), problem_categories.values, color='salmon')\n",
    "ax3.set_yticks(range(len(problem_categories)))\n",
    "ax3.set_yticklabels([f'Cat {int(cat)}' for cat in problem_categories.index])\n",
    "ax3.set_title('Top 10 catégories avec articles ≤ 10 mots', fontsize=12, fontweight='bold')\n",
    "ax3.set_xlabel('Nombre d\\'articles problématiques')\n",
    "ax3.grid(axis='x', alpha=0.3)\n",
    "\n",
    "# 4. Distribution des tailles de sessions (PERTINENT)\n",
    "ax4 = plt.subplot(2, 3, 4)\n",
    "session_sizes = clicks_df['session_size'].value_counts().sort_index()\n",
    "if len(session_sizes) > 0:\n",
    "    ax4.hist(clicks_df['session_size'], bins=30, color='skyblue', edgecolor='black')\n",
    "    ax4.set_title('Distribution des tailles de sessions', fontsize=12, fontweight='bold')\n",
    "    ax4.set_ylabel('Nombre de sessions (log scale)')\n",
    "    ax4.set_xlabel('Taille de session')\n",
    "    ax4.set_yscale('log')\n",
    "    ax4.grid(axis='y', alpha=0.3)\n",
    "    # Ajouter une ligne verticale pour la médiane\n",
    "    median_size = clicks_df['session_size'].median()\n",
    "    ax4.axvline(x=median_size, color='red', linestyle='--', alpha=0.7, label=f'Médiane: {median_size:.0f}')\n",
    "    ax4.legend()\n",
    "\n",
    "# 5. Distribution des temps avant clic (PERTINENT - focus sur les anomalies)\n",
    "ax5 = plt.subplot(2, 3, 5)\n",
    "if 'time_to_click' in clicks_df.columns:\n",
    "    time_bins = [-np.inf, 0, 10, 60, 300, 600, 1800, 3600, np.inf]\n",
    "    time_labels = ['<0', '0-10s', '10-60s', '1-5min', '5-10min', '10-30min', '30-60min', '>1h']\n",
    "    time_dist = pd.cut(clicks_df['time_to_click'], bins=time_bins, labels=time_labels).value_counts()\n",
    "    \n",
    "    time_dist = time_dist[time_dist > 0]\n",
    "    \n",
    "    if len(time_dist) > 0:\n",
    "        colors_time = ['red' if label in ['<0', '>1h'] else 'green' for label in time_dist.index]\n",
    "        ax5.bar(range(len(time_dist)), time_dist.values, color=colors_time)\n",
    "        ax5.set_xticks(range(len(time_dist)))\n",
    "        ax5.set_xticklabels(time_dist.index, rotation=45, ha='right')\n",
    "        ax5.set_ylabel('Nombre de clics (log scale)')\n",
    "        ax5.set_yscale('log')\n",
    "ax5.set_title('Distribution des temps avant clic', fontsize=12, fontweight='bold')\n",
    "ax5.grid(axis='y', alpha=0.3)\n",
    "\n",
    "# 6. Corrélation entre problèmes (PERTINENT)\n",
    "ax6 = plt.subplot(2, 3, 6)\n",
    "problems_df = pd.DataFrame({\n",
    "    'zero_words': articles_raw['words_count'] == 0,\n",
    "    'very_short': articles_raw['words_count'] < 10,\n",
    "    'very_long': articles_raw['words_count'] > 2000,\n",
    "    'old_article': (pd.Timestamp.now() - pd.to_datetime(articles_raw['created_at_ts'], unit='ms')).dt.days > 1825\n",
    "})\n",
    "corr_matrix = problems_df.astype(int).corr()\n",
    "sns.heatmap(corr_matrix, annot=True, fmt='.2f', cmap='coolwarm', center=0, ax=ax6,\n",
    "            square=True, linewidths=1, cbar_kws={\"shrink\": 0.8})\n",
    "ax6.set_title('Corrélation entre problèmes', fontsize=12, fontweight='bold')\n",
    "\n",
    "plt.suptitle('Analyse Optimisée des Données Problématiques',\n",
    "             fontsize=16, fontweight='bold', y=1.02)\n",
    "plt.tight_layout()\n",
    "plt.show()\n",
    "\n",
    "# Rapport synthétique des problèmes identifiés\n",
    "print(\"\\n📊 SYNTHÈSE DES PROBLÈMES IDENTIFIÉS\")\n",
    "print(\"=\"*60)\n",
    "\n",
    "print(\"\\n🔴 Problèmes critiques:\")\n",
    "print(f\"  • Articles avec 0 mots: {(articles_raw['words_count'] == 0).sum()} ({(articles_raw['words_count'] == 0).sum()/len(articles_raw)*100:.2f}%)\")\n",
    "print(f\"  • Articles < 10 mots: {(articles_raw['words_count'] < 10).sum()} ({(articles_raw['words_count'] < 10).sum()/len(articles_raw)*100:.2f}%)\")\n",
    "print(f\"  • Temps de clic négatifs: {(clicks_df['time_to_click'] < 0).sum() if 'time_to_click' in clicks_df.columns else 0}\")\n",
    "print(f\"  • Sessions > 100 articles: {(clicks_df['session_size'] > 100).sum()}\")\n",
    "\n",
    "print(\"\\n🟡 Catégories les plus problématiques:\")\n",
    "top_3_problematic = problem_categories.head(3)\n",
    "for cat_id, count in top_3_problematic.items():\n",
    "    print(f\"  • Catégorie {cat_id}: {count} articles problématiques\")\n",
    "\n",
    "print(\"\\n✅ Points positifs:\")\n",
    "print(f\"  • Aucune valeur manquante dans les métadonnées\")\n",
    "print(f\"  • {100 - (articles_raw['words_count'] < 10).sum()/len(articles_raw)*100:.1f}% des articles ont un contenu valide\")\n",
    "print(f\"  • Médiane des tailles de session: {clicks_df['session_size'].median():.0f} (raisonnable)\")"
   ],
   "outputs": [
    {
     "name": "stdout",
     "output_type": "stream",
     "text": [
      "\n",
      "VISUALISATIONS GRAPHIQUES\n"
     ]
    },
    {
     "data": {
      "text/plain": [
       "<Figure size 1800x1200 with 8 Axes>"
      ],
      "image/png": "[encoded data removed]"
     },
     "metadata": {},
     "output_type": "display_data"
    },
    {
     "name": "stdout",
     "output_type": "stream",
     "text": [
      "\n",
      "📊 SYNTHÈSE DES PROBLÈMES IDENTIFIÉS\n",
      "============================================================\n",
      "\n",
      "🔴 Problèmes critiques:\n",
      "  • Articles avec 0 mots: 35 (0.01%)\n",
      "  • Articles < 10 mots: 87 (0.02%)\n",
      "  • Temps de clic négatifs: 0\n",
      "  • Sessions > 100 articles: 0\n",
      "\n",
      "🟡 Catégories les plus problématiques:\n",
      "  • Catégorie 137: 21 articles problématiques\n",
      "  • Catégorie 431: 21 articles problématiques\n",
      "  • Catégorie 386: 10 articles problématiques\n",
      "\n",
      "✅ Points positifs:\n",
      "  • Aucune valeur manquante dans les métadonnées\n",
      "  • 100.0% des articles ont un contenu valide\n",
      "  • Médiane des tailles de session: 3 (raisonnable)\n"
     ]
    }
   ],
   "execution_count": 10
  },
  {
   "metadata": {},
   "cell_type": "markdown",
   "source": "## 3. Exploration approfondie des métadonnées d'articles"
  },
  {
   "metadata": {
    "ExecuteTime": {
     "end_time": "2025-09-12T09:30:01.280741Z",
     "start_time": "2025-09-12T09:30:01.264482Z"
    }
   },
   "cell_type": "code",
   "source": [
    "# Analyse détaillée des catégories\n",
    "# Statistiques des catégories\n",
    "category_stats = articles_df.groupby('category_id').agg({\n",
    "    'article_id': 'count',\n",
    "    'words_count': ['mean', 'std', 'min', 'max'],\n",
    "    'created_at': ['min', 'max']\n",
    "}).round(2)\n",
    "\n",
    "category_stats.columns = ['nb_articles', 'mots_moy', 'mots_std', 'mots_min', 'mots_max', 'date_debut', 'date_fin']\n",
    "category_stats = category_stats.sort_values('nb_articles', ascending=False)\n",
    "\n",
    "# Calculer la durée de vie de chaque catégorie\n",
    "category_stats['duree_jours'] = (category_stats['date_fin'] - category_stats['date_debut']).dt.days\n",
    "\n",
    "# Identifier les catégories \"mortes\" vs \"actives\"\n",
    "cutoff_date = articles_df['created_at'].max() - pd.Timedelta(days=180)\n",
    "active_categories = category_stats[category_stats['date_fin'] > cutoff_date]\n",
    "inactive_categories = category_stats[category_stats['date_fin'] <= cutoff_date]\n",
    "\n",
    "# Top 10 catégories\n",
    "category_stats.head(10)"
   ],
   "outputs": [
    {
     "data": {
      "text/plain": [
       "             nb_articles  mots_moy  mots_std  mots_min  mots_max  \\\n",
       "category_id                                                        \n",
       "281                12817    225.17     65.31        14      1757   \n",
       "375                10005    190.13     48.81         0      1608   \n",
       "399                 9049    188.22     43.34        18      1409   \n",
       "412                 8648    191.47     51.43         9      1553   \n",
       "431                 7759    192.39     49.19         0      1119   \n",
       "428                 7731    178.87     46.44        18      1529   \n",
       "26                  7343    198.00     47.85        20      1148   \n",
       "7                   6726    195.75     53.41        10      1676   \n",
       "299                 6634    190.63     56.14         9      1495   \n",
       "301                 6446    208.71     49.95        18      1635   \n",
       "\n",
       "                     date_debut            date_fin  duree_jours  \n",
       "category_id                                                       \n",
       "281         2011-12-01 10:39:07 2018-02-28 21:04:59         2281  \n",
       "375         2010-04-16 20:22:17 2017-11-16 13:57:04         2770  \n",
       "399         2013-04-19 16:36:19 2018-02-28 23:23:03         1776  \n",
       "412         2011-04-01 12:20:15 2017-11-16 14:11:37         2421  \n",
       "431         2012-07-03 10:44:22 2018-02-28 21:19:07         2066  \n",
       "428         2012-08-21 18:23:19 2018-02-28 22:58:58         2017  \n",
       "26          2012-07-23 19:42:17 2017-11-16 14:35:12         1941  \n",
       "7           2011-12-01 11:27:53 2018-02-28 23:09:02         2281  \n",
       "299         2013-02-19 09:32:31 2018-02-28 21:25:11         1835  \n",
       "301         2012-01-25 07:15:22 2018-02-28 20:45:02         2226  "
      ],
      "text/html": [
       "<div>\n",
       "<style scoped>\n",
       "    .dataframe tbody tr th:only-of-type {\n",
       "        vertical-align: middle;\n",
       "    }\n",
       "\n",
       "    .dataframe tbody tr th {\n",
       "        vertical-align: top;\n",
       "    }\n",
       "\n",
       "    .dataframe thead th {\n",
       "        text-align: right;\n",
       "    }\n",
       "</style>\n",
       "<table border=\"1\" class=\"dataframe\">\n",
       "  <thead>\n",
       "    <tr style=\"text-align: right;\">\n",
       "      <th></th>\n",
       "      <th>nb_articles</th>\n",
       "      <th>mots_moy</th>\n",
       "      <th>mots_std</th>\n",
       "      <th>mots_min</th>\n",
       "      <th>mots_max</th>\n",
       "      <th>date_debut</th>\n",
       "      <th>date_fin</th>\n",
       "      <th>duree_jours</th>\n",
       "    </tr>\n",
       "    <tr>\n",
       "      <th>category_id</th>\n",
       "      <th></th>\n",
       "      <th></th>\n",
       "      <th></th>\n",
       "      <th></th>\n",
       "      <th></th>\n",
       "      <th></th>\n",
       "      <th></th>\n",
       "      <th></th>\n",
       "    </tr>\n",
       "  </thead>\n",
       "  <tbody>\n",
       "    <tr>\n",
       "      <th>281</th>\n",
       "      <td>12817</td>\n",
       "      <td>225.17</td>\n",
       "      <td>65.31</td>\n",
       "      <td>14</td>\n",
       "      <td>1757</td>\n",
       "      <td>2011-12-01 10:39:07</td>\n",
       "      <td>2018-02-28 21:04:59</td>\n",
       "      <td>2281</td>\n",
       "    </tr>\n",
       "    <tr>\n",
       "      <th>375</th>\n",
       "      <td>10005</td>\n",
       "      <td>190.13</td>\n",
       "      <td>48.81</td>\n",
       "      <td>0</td>\n",
       "      <td>1608</td>\n",
       "      <td>2010-04-16 20:22:17</td>\n",
       "      <td>2017-11-16 13:57:04</td>\n",
       "      <td>2770</td>\n",
       "    </tr>\n",
       "    <tr>\n",
       "      <th>399</th>\n",
       "      <td>9049</td>\n",
       "      <td>188.22</td>\n",
       "      <td>43.34</td>\n",
       "      <td>18</td>\n",
       "      <td>1409</td>\n",
       "      <td>2013-04-19 16:36:19</td>\n",
       "      <td>2018-02-28 23:23:03</td>\n",
       "      <td>1776</td>\n",
       "    </tr>\n",
       "    <tr>\n",
       "      <th>412</th>\n",
       "      <td>8648</td>\n",
       "      <td>191.47</td>\n",
       "      <td>51.43</td>\n",
       "      <td>9</td>\n",
       "      <td>1553</td>\n",
       "      <td>2011-04-01 12:20:15</td>\n",
       "      <td>2017-11-16 14:11:37</td>\n",
       "      <td>2421</td>\n",
       "    </tr>\n",
       "    <tr>\n",
       "      <th>431</th>\n",
       "      <td>7759</td>\n",
       "      <td>192.39</td>\n",
       "      <td>49.19</td>\n",
       "      <td>0</td>\n",
       "      <td>1119</td>\n",
       "      <td>2012-07-03 10:44:22</td>\n",
       "      <td>2018-02-28 21:19:07</td>\n",
       "      <td>2066</td>\n",
       "    </tr>\n",
       "    <tr>\n",
       "      <th>428</th>\n",
       "      <td>7731</td>\n",
       "      <td>178.87</td>\n",
       "      <td>46.44</td>\n",
       "      <td>18</td>\n",
       "      <td>1529</td>\n",
       "      <td>2012-08-21 18:23:19</td>\n",
       "      <td>2018-02-28 22:58:58</td>\n",
       "      <td>2017</td>\n",
       "    </tr>\n",
       "    <tr>\n",
       "      <th>26</th>\n",
       "      <td>7343</td>\n",
       "      <td>198.00</td>\n",
       "      <td>47.85</td>\n",
       "      <td>20</td>\n",
       "      <td>1148</td>\n",
       "      <td>2012-07-23 19:42:17</td>\n",
       "      <td>2017-11-16 14:35:12</td>\n",
       "      <td>1941</td>\n",
       "    </tr>\n",
       "    <tr>\n",
       "      <th>7</th>\n",
       "      <td>6726</td>\n",
       "      <td>195.75</td>\n",
       "      <td>53.41</td>\n",
       "      <td>10</td>\n",
       "      <td>1676</td>\n",
       "      <td>2011-12-01 11:27:53</td>\n",
       "      <td>2018-02-28 23:09:02</td>\n",
       "      <td>2281</td>\n",
       "    </tr>\n",
       "    <tr>\n",
       "      <th>299</th>\n",
       "      <td>6634</td>\n",
       "      <td>190.63</td>\n",
       "      <td>56.14</td>\n",
       "      <td>9</td>\n",
       "      <td>1495</td>\n",
       "      <td>2013-02-19 09:32:31</td>\n",
       "      <td>2018-02-28 21:25:11</td>\n",
       "      <td>1835</td>\n",
       "    </tr>\n",
       "    <tr>\n",
       "      <th>301</th>\n",
       "      <td>6446</td>\n",
       "      <td>208.71</td>\n",
       "      <td>49.95</td>\n",
       "      <td>18</td>\n",
       "      <td>1635</td>\n",
       "      <td>2012-01-25 07:15:22</td>\n",
       "      <td>2018-02-28 20:45:02</td>\n",
       "      <td>2226</td>\n",
       "    </tr>\n",
       "  </tbody>\n",
       "</table>\n",
       "</div>"
      ]
     },
     "execution_count": 11,
     "metadata": {},
     "output_type": "execute_result"
    }
   ],
   "execution_count": 11
  },
  {
   "metadata": {
    "ExecuteTime": {
     "end_time": "2025-09-12T09:30:01.516227Z",
     "start_time": "2025-09-12T09:30:01.314084Z"
    }
   },
   "cell_type": "code",
   "source": [
    "# Création de labels intelligents pour les catégories\n",
    "def create_category_labels(category_stats, articles_df):\n",
    "    \"\"\"Crée des labels descriptifs pour les catégories basés sur leurs caractéristiques\"\"\"\n",
    "\n",
    "    labels = {}\n",
    "\n",
    "    for cat_id in category_stats.index:\n",
    "        cat_data = category_stats.loc[cat_id]\n",
    "\n",
    "        # Déterminer le type de contenu basé sur la longueur moyenne\n",
    "        if cat_data['mots_moy'] < 150:\n",
    "            content_type = \"Short\"\n",
    "        elif cat_data['mots_moy'] < 250:\n",
    "            content_type = \"Medium\"\n",
    "        else:\n",
    "            content_type = \"Long\"\n",
    "\n",
    "        # Déterminer la popularité\n",
    "        if cat_data['nb_articles'] > category_stats['nb_articles'].quantile(0.75):\n",
    "            popularity = \"Popular\"\n",
    "        elif cat_data['nb_articles'] > category_stats['nb_articles'].quantile(0.25):\n",
    "            popularity = \"Standard\"\n",
    "        else:\n",
    "            popularity = \"Niche\"\n",
    "\n",
    "        # Déterminer l'âge\n",
    "        if cat_data['date_fin'] > articles_df['created_at'].max() - pd.Timedelta(days=90):\n",
    "            age = \"Recent\"\n",
    "        elif cat_data['date_fin'] > articles_df['created_at'].max() - pd.Timedelta(days=365):\n",
    "            age = \"Active\"\n",
    "        else:\n",
    "            age = \"Archive\"\n",
    "\n",
    "        # Créer le label\n",
    "        labels[cat_id] = f\"Cat_{cat_id}_{content_type}_{popularity}_{age}\"\n",
    "\n",
    "    return labels\n",
    "\n",
    "# Créer les labels\n",
    "category_labels = create_category_labels(category_stats, articles_df)\n",
    "\n",
    "# Ajouter les labels au DataFrame\n",
    "articles_df['category_label'] = articles_df['category_id'].map(category_labels)\n",
    "\n",
    "# Statistiques sur les types de labels\n",
    "label_parts = pd.DataFrame([label.split('_')[2:] for label in category_labels.values()],\n",
    "                           columns=['content_type', 'popularity', 'age'])\n",
    "\n",
    "# Distribution des caractéristiques\n",
    "label_distribution = {}\n",
    "for col in label_parts.columns:\n",
    "    label_distribution[col] = label_parts[col].value_counts().to_dict()"
   ],
   "outputs": [],
   "execution_count": 12
  },
  {
   "metadata": {
    "ExecuteTime": {
     "end_time": "2025-09-12T09:30:01.782663Z",
     "start_time": "2025-09-12T09:30:01.545573Z"
    }
   },
   "cell_type": "code",
   "source": [
    "# Patterns temporels dans la publication d'articles\n",
    "print(\"\\nANALYSE DES PATTERNS TEMPORELS\")\n",
    "print(\"=\"*60)\n",
    "\n",
    "# Analyse par jour de la semaine\n",
    "day_order = ['Monday', 'Tuesday', 'Wednesday', 'Thursday', 'Friday', 'Saturday', 'Sunday']\n",
    "articles_by_day = articles_df['day_of_week'].value_counts().reindex(day_order)\n",
    "\n",
    "# Analyse par heure\n",
    "articles_by_hour = articles_df['hour'].value_counts().sort_index()\n",
    "\n",
    "# Analyse par mois\n",
    "articles_by_month = articles_df['month'].value_counts().sort_index()\n",
    "\n",
    "# Créer un heatmap temporel\n",
    "temporal_matrix = articles_df.groupby(['day_of_week', 'hour']).size().unstack(fill_value=0)\n",
    "temporal_matrix = temporal_matrix.reindex(day_order)\n",
    "\n",
    "# Visualisation\n",
    "fig, axes = plt.subplots(2, 2, figsize=(16, 12))\n",
    "\n",
    "# 1. Articles par jour de la semaine\n",
    "axes[0, 0].bar(range(len(articles_by_day)), articles_by_day.values, color='skyblue')\n",
    "axes[0, 0].set_xticks(range(len(articles_by_day)))\n",
    "axes[0, 0].set_xticklabels([day[:3] for day in day_order], rotation=0)\n",
    "axes[0, 0].set_title('Publications par jour de la semaine', fontsize=14, fontweight='bold')\n",
    "axes[0, 0].set_ylabel('Nombre d\\'articles')\n",
    "axes[0, 0].grid(axis='y', alpha=0.3)\n",
    "\n",
    "# 2. Articles par heure\n",
    "axes[0, 1].plot(articles_by_hour.index, articles_by_hour.values, 'o-', color='coral', linewidth=2)\n",
    "axes[0, 1].set_title('Publications par heure de la journée', fontsize=14, fontweight='bold')\n",
    "axes[0, 1].set_xlabel('Heure')\n",
    "axes[0, 1].set_ylabel('Nombre d\\'articles')\n",
    "axes[0, 1].grid(True, alpha=0.3)\n",
    "axes[0, 1].set_xticks(range(0, 24, 2))\n",
    "\n",
    "# 3. Heatmap jour/heure\n",
    "im = axes[1, 0].imshow(temporal_matrix, aspect='auto', cmap='YlOrRd')\n",
    "axes[1, 0].set_title('Heatmap: Publications par jour et heure', fontsize=14, fontweight='bold')\n",
    "axes[1, 0].set_xlabel('Heure de la journée')\n",
    "axes[1, 0].set_ylabel('Jour de la semaine')\n",
    "axes[1, 0].set_xticks(range(24))\n",
    "axes[1, 0].set_xticklabels(range(24))\n",
    "axes[1, 0].set_yticks(range(len(day_order)))\n",
    "axes[1, 0].set_yticklabels([day[:3] for day in day_order])\n",
    "plt.colorbar(im, ax=axes[1, 0])\n",
    "\n",
    "# 4. Tendance mensuelle\n",
    "month_names = ['Jan', 'Fév', 'Mar', 'Avr', 'Mai', 'Jun',\n",
    "               'Jul', 'Août', 'Sep', 'Oct', 'Nov', 'Déc']\n",
    "axes[1, 1].bar(range(1, 13), articles_by_month.values, color='lightgreen')\n",
    "axes[1, 1].set_title('Publications par mois', fontsize=14, fontweight='bold')\n",
    "axes[1, 1].set_xlabel('Mois')\n",
    "axes[1, 1].set_ylabel('Nombre d\\'articles')\n",
    "axes[1, 1].set_xticks(range(1, 13))\n",
    "axes[1, 1].set_xticklabels(month_names, rotation=45)\n",
    "axes[1, 1].grid(axis='y', alpha=0.3)\n",
    "\n",
    "plt.suptitle('Analyse Temporelle des Publications', fontsize=16, fontweight='bold', y=1.02)\n",
    "plt.tight_layout()\n",
    "plt.show()\n",
    "\n",
    "print(f\"\\nJour le plus actif: {articles_by_day.idxmax()} ({articles_by_day.max():,} articles)\")\n",
    "print(f\"Heure de pointe: {articles_by_hour.idxmax()}h ({articles_by_hour.max():,} articles)\")"
   ],
   "outputs": [
    {
     "name": "stdout",
     "output_type": "stream",
     "text": [
      "\n",
      "ANALYSE DES PATTERNS TEMPORELS\n",
      "============================================================\n"
     ]
    },
    {
     "data": {
      "text/plain": [
       "<Figure size 1600x1200 with 5 Axes>"
      ],
      "image/png": "[encoded data removed]"
     },
     "metadata": {},
     "output_type": "display_data"
    },
    {
     "name": "stdout",
     "output_type": "stream",
     "text": [
      "\n",
      "Jour le plus actif: Wednesday (61,842 articles)\n",
      "Heure de pointe: 10h (26,215 articles)\n"
     ]
    }
   ],
   "execution_count": 13
  },
  {
   "metadata": {},
   "cell_type": "markdown",
   "source": "## 4. Analyse temporelle approfondie"
  },
  {
   "metadata": {
    "ExecuteTime": {
     "end_time": "2025-09-12T09:32:15.551545Z",
     "start_time": "2025-09-12T09:30:01.821270Z"
    }
   },
   "cell_type": "code",
   "source": [
    "# Analyse approfondie des comportements utilisateurs\n",
    "print(\"\\nANALYSE DES COMPORTEMENTS UTILISATEURS\")\n",
    "print(\"=\"*60)\n",
    "\n",
    "# Créer des profils utilisateurs enrichis\n",
    "user_profiles = clicks_df.groupby('user_id').agg({\n",
    "    'click_article_id': ['count', 'nunique'],\n",
    "    'session_id': 'nunique',\n",
    "    'session_size': 'mean',\n",
    "    'click_timestamp_dt': ['min', 'max'],\n",
    "    'click_environment': lambda x: x.mode()[0] if len(x.mode()) > 0 else x.iloc[0],\n",
    "    'click_deviceGroup': lambda x: x.mode()[0] if len(x.mode()) > 0 else x.iloc[0],\n",
    "    'click_country': lambda x: x.mode()[0] if len(x.mode()) > 0 else x.iloc[0]\n",
    "})\n",
    "\n",
    "user_profiles.columns = ['total_clicks', 'unique_articles', 'sessions', 'avg_session_size',\n",
    "                         'first_click', 'last_click', 'main_environment',\n",
    "                         'main_device', 'country']\n",
    "\n",
    "# Calculer des métriques dérivées\n",
    "user_profiles['days_active'] = (user_profiles['last_click'] - user_profiles['first_click']).dt.days + 1\n",
    "user_profiles['clicks_per_day'] = user_profiles['total_clicks'] / user_profiles['days_active']\n",
    "user_profiles['article_diversity'] = user_profiles['unique_articles'] / user_profiles['total_clicks']\n",
    "user_profiles['sessions_per_day'] = user_profiles['sessions'] / user_profiles['days_active']\n",
    "\n",
    "print(f\"\\nNombre total d'utilisateurs: {len(user_profiles):,}\")\n",
    "print(f\"Clics moyens par utilisateur: {user_profiles['total_clicks'].mean():.2f}\")\n",
    "print(f\"Articles uniques moyens: {user_profiles['unique_articles'].mean():.2f}\")\n",
    "print(f\"Diversité moyenne: {user_profiles['article_diversity'].mean():.3f}\")\n",
    "\n",
    "# Segmentation des utilisateurs\n",
    "def segment_users(user_profiles):\n",
    "    \"\"\"Segmente les utilisateurs en différents groupes comportementaux\"\"\"\n",
    "    segments = []\n",
    "\n",
    "    for idx, user in user_profiles.iterrows():\n",
    "        if user['total_clicks'] >= user_profiles['total_clicks'].quantile(0.75):\n",
    "            if user['article_diversity'] >= 0.7:\n",
    "                segment = 'Explorer_Actif'\n",
    "            else:\n",
    "                segment = 'Lecteur_Fidèle'\n",
    "        elif user['total_clicks'] >= user_profiles['total_clicks'].quantile(0.25):\n",
    "            if user['article_diversity'] >= 0.7:\n",
    "                segment = 'Explorer_Modéré'\n",
    "            else:\n",
    "                segment = 'Lecteur_Régulier'\n",
    "        else:\n",
    "            if user['sessions'] == 1:\n",
    "                segment = 'Visiteur_Unique'\n",
    "            else:\n",
    "                segment = 'Lecteur_Occasionnel'\n",
    "\n",
    "        segments.append(segment)\n",
    "\n",
    "    return segments\n",
    "\n",
    "user_profiles['segment'] = segment_users(user_profiles)\n",
    "\n",
    "# Afficher la distribution des segments\n",
    "print(\"\\nSegmentation des utilisateurs:\")\n",
    "segment_dist = user_profiles['segment'].value_counts()\n",
    "for segment, count in segment_dist.items():\n",
    "    print(f\"  {segment}: {count} ({count/len(user_profiles)*100:.1f}%)\")\n",
    "\n",
    "# Top utilisateurs\n",
    "print(\"\\nTop 5 utilisateurs les plus actifs:\")\n",
    "top_users = user_profiles.nlargest(5, 'total_clicks')\n",
    "display(top_users[['total_clicks', 'unique_articles', 'article_diversity', 'segment']])"
   ],
   "outputs": [
    {
     "name": "stdout",
     "output_type": "stream",
     "text": [
      "\n",
      "ANALYSE DES COMPORTEMENTS UTILISATEURS\n",
      "============================================================\n",
      "\n",
      "Nombre total d'utilisateurs: 117,185\n",
      "Clics moyens par utilisateur: 3.83\n",
      "Articles uniques moyens: 3.77\n",
      "Diversité moyenne: 0.993\n",
      "\n",
      "Segmentation des utilisateurs:\n",
      "  Explorer_Modéré: 74555 (63.6%)\n",
      "  Explorer_Actif: 42408 (36.2%)\n",
      "  Lecteur_Fidèle: 222 (0.2%)\n",
      "\n",
      "Top 5 utilisateurs les plus actifs:\n"
     ]
    },
    {
     "data": {
      "text/plain": [
       "         total_clicks  unique_articles  article_diversity         segment\n",
       "user_id                                                                  \n",
       "5890              182              153           0.840659  Explorer_Actif\n",
       "73574             157              157           1.000000  Explorer_Actif\n",
       "15275             151              146           0.966887  Explorer_Actif\n",
       "2151              101               78           0.772277  Explorer_Actif\n",
       "15867              96               71           0.739583  Explorer_Actif"
      ],
      "text/html": [
       "<div>\n",
       "<style scoped>\n",
       "    .dataframe tbody tr th:only-of-type {\n",
       "        vertical-align: middle;\n",
       "    }\n",
       "\n",
       "    .dataframe tbody tr th {\n",
       "        vertical-align: top;\n",
       "    }\n",
       "\n",
       "    .dataframe thead th {\n",
       "        text-align: right;\n",
       "    }\n",
       "</style>\n",
       "<table border=\"1\" class=\"dataframe\">\n",
       "  <thead>\n",
       "    <tr style=\"text-align: right;\">\n",
       "      <th></th>\n",
       "      <th>total_clicks</th>\n",
       "      <th>unique_articles</th>\n",
       "      <th>article_diversity</th>\n",
       "      <th>segment</th>\n",
       "    </tr>\n",
       "    <tr>\n",
       "      <th>user_id</th>\n",
       "      <th></th>\n",
       "      <th></th>\n",
       "      <th></th>\n",
       "      <th></th>\n",
       "    </tr>\n",
       "  </thead>\n",
       "  <tbody>\n",
       "    <tr>\n",
       "      <th>5890</th>\n",
       "      <td>182</td>\n",
       "      <td>153</td>\n",
       "      <td>0.840659</td>\n",
       "      <td>Explorer_Actif</td>\n",
       "    </tr>\n",
       "    <tr>\n",
       "      <th>73574</th>\n",
       "      <td>157</td>\n",
       "      <td>157</td>\n",
       "      <td>1.000000</td>\n",
       "      <td>Explorer_Actif</td>\n",
       "    </tr>\n",
       "    <tr>\n",
       "      <th>15275</th>\n",
       "      <td>151</td>\n",
       "      <td>146</td>\n",
       "      <td>0.966887</td>\n",
       "      <td>Explorer_Actif</td>\n",
       "    </tr>\n",
       "    <tr>\n",
       "      <th>2151</th>\n",
       "      <td>101</td>\n",
       "      <td>78</td>\n",
       "      <td>0.772277</td>\n",
       "      <td>Explorer_Actif</td>\n",
       "    </tr>\n",
       "    <tr>\n",
       "      <th>15867</th>\n",
       "      <td>96</td>\n",
       "      <td>71</td>\n",
       "      <td>0.739583</td>\n",
       "      <td>Explorer_Actif</td>\n",
       "    </tr>\n",
       "  </tbody>\n",
       "</table>\n",
       "</div>"
      ]
     },
     "metadata": {},
     "output_type": "display_data"
    }
   ],
   "execution_count": 14
  },
  {
   "metadata": {
    "ExecuteTime": {
     "end_time": "2025-09-12T09:34:25.914138Z",
     "start_time": "2025-09-12T09:32:15.577695Z"
    }
   },
   "cell_type": "code",
   "source": [
    "# Analyse approfondie des comportements utilisateurs\n",
    "print(\"\\n👥 ANALYSE DES COMPORTEMENTS UTILISATEURS\")\n",
    "print(\"=\"*60)\n",
    "\n",
    "# Créer des profils utilisateurs enrichis\n",
    "user_profiles = clicks_df.groupby('user_id').agg({\n",
    "    'click_article_id': ['count', 'nunique'],\n",
    "    'session_id': 'nunique',\n",
    "    'session_size': 'mean',\n",
    "    'click_timestamp_dt': ['min', 'max'],\n",
    "    'click_environment': lambda x: x.mode()[0] if len(x.mode()) > 0 else x.iloc[0],\n",
    "    'click_deviceGroup': lambda x: x.mode()[0] if len(x.mode()) > 0 else x.iloc[0],\n",
    "    'click_country': lambda x: x.mode()[0] if len(x.mode()) > 0 else x.iloc[0]\n",
    "})\n",
    "\n",
    "user_profiles.columns = ['total_clicks', 'unique_articles', 'sessions', 'avg_session_size',\n",
    "                         'first_click', 'last_click', 'main_environment',\n",
    "                         'main_device', 'country']\n",
    "\n",
    "# Calculer des métriques dérivées\n",
    "user_profiles['days_active'] = (user_profiles['last_click'] - user_profiles['first_click']).dt.days + 1\n",
    "user_profiles['clicks_per_day'] = user_profiles['total_clicks'] / user_profiles['days_active']\n",
    "user_profiles['article_diversity'] = user_profiles['unique_articles'] / user_profiles['total_clicks']\n",
    "user_profiles['sessions_per_day'] = user_profiles['sessions'] / user_profiles['days_active']\n",
    "\n",
    "print(\"\\n📊 Statistiques générales des utilisateurs:\")\n",
    "print(f\"  • Nombre total d'utilisateurs: {len(user_profiles):,}\")\n",
    "print(f\"  • Clics moyens par utilisateur: {user_profiles['total_clicks'].mean():.2f}\")\n",
    "print(f\"  • Articles uniques moyens: {user_profiles['unique_articles'].mean():.2f}\")\n",
    "print(f\"  • Diversité moyenne: {user_profiles['article_diversity'].mean():.3f}\")\n",
    "\n",
    "# Segmentation des utilisateurs\n",
    "def segment_users(user_profiles):\n",
    "    \"\"\"Segmente les utilisateurs en différents groupes comportementaux\"\"\"\n",
    "    segments = []\n",
    "\n",
    "    for idx, user in user_profiles.iterrows():\n",
    "        if user['total_clicks'] >= user_profiles['total_clicks'].quantile(0.75):\n",
    "            if user['article_diversity'] >= 0.7:\n",
    "                segment = 'Explorer_Actif'\n",
    "            else:\n",
    "                segment = 'Lecteur_Fidèle'\n",
    "        elif user['total_clicks'] >= user_profiles['total_clicks'].quantile(0.25):\n",
    "            if user['article_diversity'] >= 0.7:\n",
    "                segment = 'Explorer_Modéré'\n",
    "            else:\n",
    "                segment = 'Lecteur_Régulier'\n",
    "        else:\n",
    "            if user['sessions'] == 1:\n",
    "                segment = 'Visiteur_Unique'\n",
    "            else:\n",
    "                segment = 'Lecteur_Occasionnel'\n",
    "\n",
    "        segments.append(segment)\n",
    "\n",
    "    return segments\n",
    "\n",
    "user_profiles['segment'] = segment_users(user_profiles)\n",
    "\n",
    "# Afficher la distribution des segments\n",
    "print(\"\\n🎯 Segmentation des utilisateurs:\")\n",
    "segment_dist = user_profiles['segment'].value_counts()\n",
    "for segment, count in segment_dist.items():\n",
    "    print(f\"  • {segment}: {count} ({count/len(user_profiles)*100:.1f}%)\")\n",
    "\n",
    "# Top utilisateurs\n",
    "print(\"\\n🏆 Top 5 utilisateurs les plus actifs:\")\n",
    "top_users = user_profiles.nlargest(5, 'total_clicks')\n",
    "display(top_users[['total_clicks', 'unique_articles', 'article_diversity', 'segment']])"
   ],
   "outputs": [
    {
     "name": "stdout",
     "output_type": "stream",
     "text": [
      "\n",
      "👥 ANALYSE DES COMPORTEMENTS UTILISATEURS\n",
      "============================================================\n",
      "\n",
      "📊 Statistiques générales des utilisateurs:\n",
      "  • Nombre total d'utilisateurs: 117,185\n",
      "  • Clics moyens par utilisateur: 3.83\n",
      "  • Articles uniques moyens: 3.77\n",
      "  • Diversité moyenne: 0.993\n",
      "\n",
      "🎯 Segmentation des utilisateurs:\n",
      "  • Explorer_Modéré: 74555 (63.6%)\n",
      "  • Explorer_Actif: 42408 (36.2%)\n",
      "  • Lecteur_Fidèle: 222 (0.2%)\n",
      "\n",
      "🏆 Top 5 utilisateurs les plus actifs:\n"
     ]
    },
    {
     "data": {
      "text/plain": [
       "         total_clicks  unique_articles  article_diversity         segment\n",
       "user_id                                                                  \n",
       "5890              182              153           0.840659  Explorer_Actif\n",
       "73574             157              157           1.000000  Explorer_Actif\n",
       "15275             151              146           0.966887  Explorer_Actif\n",
       "2151              101               78           0.772277  Explorer_Actif\n",
       "15867              96               71           0.739583  Explorer_Actif"
      ],
      "text/html": [
       "<div>\n",
       "<style scoped>\n",
       "    .dataframe tbody tr th:only-of-type {\n",
       "        vertical-align: middle;\n",
       "    }\n",
       "\n",
       "    .dataframe tbody tr th {\n",
       "        vertical-align: top;\n",
       "    }\n",
       "\n",
       "    .dataframe thead th {\n",
       "        text-align: right;\n",
       "    }\n",
       "</style>\n",
       "<table border=\"1\" class=\"dataframe\">\n",
       "  <thead>\n",
       "    <tr style=\"text-align: right;\">\n",
       "      <th></th>\n",
       "      <th>total_clicks</th>\n",
       "      <th>unique_articles</th>\n",
       "      <th>article_diversity</th>\n",
       "      <th>segment</th>\n",
       "    </tr>\n",
       "    <tr>\n",
       "      <th>user_id</th>\n",
       "      <th></th>\n",
       "      <th></th>\n",
       "      <th></th>\n",
       "      <th></th>\n",
       "    </tr>\n",
       "  </thead>\n",
       "  <tbody>\n",
       "    <tr>\n",
       "      <th>5890</th>\n",
       "      <td>182</td>\n",
       "      <td>153</td>\n",
       "      <td>0.840659</td>\n",
       "      <td>Explorer_Actif</td>\n",
       "    </tr>\n",
       "    <tr>\n",
       "      <th>73574</th>\n",
       "      <td>157</td>\n",
       "      <td>157</td>\n",
       "      <td>1.000000</td>\n",
       "      <td>Explorer_Actif</td>\n",
       "    </tr>\n",
       "    <tr>\n",
       "      <th>15275</th>\n",
       "      <td>151</td>\n",
       "      <td>146</td>\n",
       "      <td>0.966887</td>\n",
       "      <td>Explorer_Actif</td>\n",
       "    </tr>\n",
       "    <tr>\n",
       "      <th>2151</th>\n",
       "      <td>101</td>\n",
       "      <td>78</td>\n",
       "      <td>0.772277</td>\n",
       "      <td>Explorer_Actif</td>\n",
       "    </tr>\n",
       "    <tr>\n",
       "      <th>15867</th>\n",
       "      <td>96</td>\n",
       "      <td>71</td>\n",
       "      <td>0.739583</td>\n",
       "      <td>Explorer_Actif</td>\n",
       "    </tr>\n",
       "  </tbody>\n",
       "</table>\n",
       "</div>"
      ]
     },
     "metadata": {},
     "output_type": "display_data"
    }
   ],
   "execution_count": 15
  },
  {
   "metadata": {
    "ExecuteTime": {
     "end_time": "2025-09-12T09:34:31.722234Z",
     "start_time": "2025-09-12T09:34:25.942682Z"
    }
   },
   "cell_type": "code",
   "source": [
    "# Analyse des embeddings avec réduction de dimension\n",
    "print(\"\\nANALYSE DES EMBEDDINGS D'ARTICLES\")\n",
    "print(\"=\"*60)\n",
    "\n",
    "# Échantillonner pour la visualisation\n",
    "sample_size = 5000\n",
    "sample_indices = np.random.choice(len(embeddings_array), sample_size, replace=False)\n",
    "sample_embeddings = embeddings_array[sample_indices]\n",
    "sample_articles = articles_df.iloc[sample_indices]\n",
    "\n",
    "print(f\"Échantillon de {sample_size} articles pour l'analyse...\")\n",
    "\n",
    "# PCA pour réduction de dimension\n",
    "print(\"\\nRéduction de dimension avec PCA...\")\n",
    "pca = PCA(n_components=50)\n",
    "embeddings_pca = pca.fit_transform(sample_embeddings)\n",
    "\n",
    "print(f\"  Variance expliquée par les 10 premiers composants: {pca.explained_variance_ratio_[:10].sum():.2%}\")\n",
    "print(f\"  Variance expliquée par les 50 composants: {pca.explained_variance_ratio_.sum():.2%}\")\n",
    "\n",
    "# t-SNE pour visualisation 2D\n",
    "print(\"\\nProjection t-SNE pour visualisation...\")\n",
    "tsne = TSNE(n_components=2, random_state=42, perplexity=30)\n",
    "embeddings_2d = tsne.fit_transform(embeddings_pca)\n",
    "\n",
    "# Clustering pour identifier des groupes d'articles\n",
    "print(\"\\nClustering des articles...\")\n",
    "n_clusters = 10\n",
    "kmeans = KMeans(n_clusters=n_clusters, random_state=42)\n",
    "clusters = kmeans.fit_predict(embeddings_pca)\n",
    "\n",
    "sample_articles['cluster'] = clusters\n",
    "sample_articles['tsne_x'] = embeddings_2d[:, 0]\n",
    "sample_articles['tsne_y'] = embeddings_2d[:, 1]\n",
    "\n",
    "print(f\"  Nombre de clusters: {n_clusters}\")\n",
    "print(\"  Distribution des clusters:\")\n",
    "cluster_dist = pd.Series(clusters).value_counts().sort_index()\n",
    "for cluster_id, count in cluster_dist.items():\n",
    "    print(f\"    - Cluster {cluster_id}: {count} articles ({count/len(clusters)*100:.1f}%)\")"
   ],
   "outputs": [
    {
     "name": "stdout",
     "output_type": "stream",
     "text": [
      "\n",
      "ANALYSE DES EMBEDDINGS D'ARTICLES\n",
      "============================================================\n",
      "Échantillon de 5000 articles pour l'analyse...\n",
      "\n",
      "Réduction de dimension avec PCA...\n",
      "  Variance expliquée par les 10 premiers composants: 49.84%\n",
      "  Variance expliquée par les 50 composants: 94.61%\n",
      "\n",
      "Projection t-SNE pour visualisation...\n",
      "\n",
      "Clustering des articles...\n",
      "  Nombre de clusters: 10\n",
      "  Distribution des clusters:\n",
      "    - Cluster 0: 345 articles (6.9%)\n",
      "    - Cluster 1: 589 articles (11.8%)\n",
      "    - Cluster 2: 583 articles (11.7%)\n",
      "    - Cluster 3: 533 articles (10.7%)\n",
      "    - Cluster 4: 288 articles (5.8%)\n",
      "    - Cluster 5: 519 articles (10.4%)\n",
      "    - Cluster 6: 849 articles (17.0%)\n",
      "    - Cluster 7: 499 articles (10.0%)\n",
      "    - Cluster 8: 511 articles (10.2%)\n",
      "    - Cluster 9: 284 articles (5.7%)\n"
     ]
    }
   ],
   "execution_count": 16
  },
  {
   "metadata": {},
   "cell_type": "markdown",
   "source": "## 6. Exploration avancée des embeddings"
  },
  {
   "metadata": {
    "ExecuteTime": {
     "end_time": "2025-09-12T09:34:32.332627Z",
     "start_time": "2025-09-12T09:34:31.756291Z"
    }
   },
   "cell_type": "code",
   "source": [
    "# Visualisation interactive des embeddings\n",
    "print(\"\\n📊 VISUALISATION INTERACTIVE DES EMBEDDINGS\")\n",
    "print(\"=\"*60)\n",
    "\n",
    "# Créer une visualisation Plotly interactive\n",
    "fig = px.scatter(\n",
    "    sample_articles,\n",
    "    x='tsne_x',\n",
    "    y='tsne_y',\n",
    "    color='cluster',\n",
    "    hover_data=['article_id', 'category_id', 'words_count'],\n",
    "    title='Projection t-SNE des Embeddings d\\'Articles',\n",
    "    labels={'tsne_x': 'Dimension 1', 'tsne_y': 'Dimension 2'},\n",
    "    color_continuous_scale='Viridis'\n",
    ")\n",
    "\n",
    "fig.update_traces(marker=dict(size=5, opacity=0.7))\n",
    "fig.update_layout(\n",
    "    width=900,\n",
    "    height=600,\n",
    "    hovermode='closest'\n",
    ")\n",
    "\n",
    "fig.show()\n",
    "\n",
    "# Analyser les caractéristiques de chaque cluster\n",
    "print(\"\\n🔍 Analyse des caractéristiques des clusters:\")\n",
    "cluster_analysis = sample_articles.groupby('cluster').agg({\n",
    "    'category_id': lambda x: x.mode()[0] if len(x.mode()) > 0 else x.iloc[0],\n",
    "    'words_count': ['mean', 'std'],\n",
    "    'year': lambda x: x.mode()[0] if len(x.mode()) > 0 else x.iloc[0],\n",
    "    'article_id': 'count'\n",
    "}).round(2)\n",
    "\n",
    "cluster_analysis.columns = ['dominant_category', 'avg_words', 'std_words', 'dominant_year', 'n_articles']\n",
    "\n",
    "print(\"\\nCaractéristiques de chaque cluster:\")\n",
    "display(cluster_analysis)\n",
    "\n",
    "# Identifier les articles centraux de chaque cluster\n",
    "print(\"\\n🎯 Articles représentatifs de chaque cluster:\")\n",
    "for cluster_id in range(n_clusters):\n",
    "    cluster_mask = clusters == cluster_id\n",
    "    cluster_center = kmeans.cluster_centers_[cluster_id]\n",
    "\n",
    "    # Trouver l'article le plus proche du centre\n",
    "    distances = np.linalg.norm(embeddings_pca[cluster_mask] - cluster_center, axis=1)\n",
    "    closest_idx = np.argmin(distances)\n",
    "\n",
    "    # Obtenir l'article correspondant\n",
    "    representative_article = sample_articles[sample_articles['cluster'] == cluster_id].iloc[closest_idx]\n",
    "\n",
    "    print(f\"\\n  Cluster {cluster_id}:\")\n",
    "    print(f\"    • Article ID: {representative_article['article_id']}\")\n",
    "    print(f\"    • Catégorie: {representative_article['category_id']}\")\n",
    "    print(f\"    • Nombre de mots: {representative_article['words_count']}\")\n",
    "    print(f\"    • Date: {representative_article['created_at'].strftime('%Y-%m-%d')}\")"
   ],
   "outputs": [
    {
     "name": "stdout",
     "output_type": "stream",
     "text": [
      "\n",
      "📊 VISUALISATION INTERACTIVE DES EMBEDDINGS\n",
      "============================================================\n"
     ]
    },
    {
     "data": {
      "application/vnd.plotly.v1+json": {
       "data": [
        {
         "customdata": {
          "dtype": "i4",
          "bdata": "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",
          "shape": "5000, 3"
         },
         "hovertemplate": "Dimension 1=%{x}<br>Dimension 2=%{y}<br>article_id=%{customdata[0]}<br>category_id=%{customdata[1]}<br>words_count=%{customdata[2]}<br>cluster=%{marker.color}<extra></extra>",
         "legendgroup": "",
         "marker": {
          "color": {
           "dtype": "i4",
           "bdata": "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"
          },
          "coloraxis": "coloraxis",
          "symbol": "circle",
          "opacity": 0.7,
          "size": 5
         },
         "mode": "markers",
         "name": "",
         "showlegend": false,
         "x": {
          "dtype": "f4",
          "bdata": "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"
         },
         "xaxis": "x",
         "y": {
          "dtype": "f4",
          "bdata": "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"
         },
         "yaxis": "y",
         "type": "scattergl"
        }
       ],
       "layout": {
        "template": {
         "data": {
          "histogram2dcontour": [
           {
            "type": "histogram2dcontour",
            "colorbar": {
             "outlinewidth": 0,
             "ticks": ""
            },
            "colorscale": [
             [
              0.0,
              "#0d0887"
             ],
             [
              0.1111111111111111,
              "#46039f"
             ],
             [
              0.2222222222222222,
              "#7201a8"
             ],
             [
              0.3333333333333333,
              "#9c179e"
             ],
             [
              0.4444444444444444,
              "#bd3786"
             ],
             [
              0.5555555555555556,
              "#d8576b"
             ],
             [
              0.6666666666666666,
              "#ed7953"
             ],
             [
              0.7777777777777778,
              "#fb9f3a"
             ],
             [
              0.8888888888888888,
              "#fdca26"
             ],
             [
              1.0,
              "#f0f921"
             ]
            ]
           }
          ],
          "choropleth": [
           {
            "type": "choropleth",
            "colorbar": {
             "outlinewidth": 0,
             "ticks": ""
            }
           }
          ],
          "histogram2d": [
           {
            "type": "histogram2d",
            "colorbar": {
             "outlinewidth": 0,
             "ticks": ""
            },
            "colorscale": [
             [
              0.0,
              "#0d0887"
             ],
             [
              0.1111111111111111,
              "#46039f"
             ],
             [
              0.2222222222222222,
              "#7201a8"
             ],
             [
              0.3333333333333333,
              "#9c179e"
             ],
             [
              0.4444444444444444,
              "#bd3786"
             ],
             [
              0.5555555555555556,
              "#d8576b"
             ],
             [
              0.6666666666666666,
              "#ed7953"
             ],
             [
              0.7777777777777778,
              "#fb9f3a"
             ],
             [
              0.8888888888888888,
              "#fdca26"
             ],
             [
              1.0,
              "#f0f921"
             ]
            ]
           }
          ],
          "heatmap": [
           {
            "type": "heatmap",
            "colorbar": {
             "outlinewidth": 0,
             "ticks": ""
            },
            "colorscale": [
             [
              0.0,
              "#0d0887"
             ],
             [
              0.1111111111111111,
              "#46039f"
             ],
             [
              0.2222222222222222,
              "#7201a8"
             ],
             [
              0.3333333333333333,
              "#9c179e"
             ],
             [
              0.4444444444444444,
              "#bd3786"
             ],
             [
              0.5555555555555556,
              "#d8576b"
             ],
             [
              0.6666666666666666,
              "#ed7953"
             ],
             [
              0.7777777777777778,
              "#fb9f3a"
             ],
             [
              0.8888888888888888,
              "#fdca26"
             ],
             [
              1.0,
              "#f0f921"
             ]
            ]
           }
          ],
          "contourcarpet": [
           {
            "type": "contourcarpet",
            "colorbar": {
             "outlinewidth": 0,
             "ticks": ""
            }
           }
          ],
          "contour": [
           {
            "type": "contour",
            "colorbar": {
             "outlinewidth": 0,
             "ticks": ""
            },
            "colorscale": [
             [
              0.0,
              "#0d0887"
             ],
             [
              0.1111111111111111,
              "#46039f"
             ],
             [
              0.2222222222222222,
              "#7201a8"
             ],
             [
              0.3333333333333333,
              "#9c179e"
             ],
             [
              0.4444444444444444,
              "#bd3786"
             ],
             [
              0.5555555555555556,
              "#d8576b"
             ],
             [
              0.6666666666666666,
              "#ed7953"
             ],
             [
              0.7777777777777778,
              "#fb9f3a"
             ],
             [
              0.8888888888888888,
              "#fdca26"
             ],
             [
              1.0,
              "#f0f921"
             ]
            ]
           }
          ],
          "surface": [
           {
            "type": "surface",
            "colorbar": {
             "outlinewidth": 0,
             "ticks": ""
            },
            "colorscale": [
             [
              0.0,
              "#0d0887"
             ],
             [
              0.1111111111111111,
              "#46039f"
             ],
             [
              0.2222222222222222,
              "#7201a8"
             ],
             [
              0.3333333333333333,
              "#9c179e"
             ],
             [
              0.4444444444444444,
              "#bd3786"
             ],
             [
              0.5555555555555556,
              "#d8576b"
             ],
             [
              0.6666666666666666,
              "#ed7953"
             ],
             [
              0.7777777777777778,
              "#fb9f3a"
             ],
             [
              0.8888888888888888,
              "#fdca26"
             ],
             [
              1.0,
              "#f0f921"
             ]
            ]
           }
          ],
          "mesh3d": [
           {
            "type": "mesh3d",
            "colorbar": {
             "outlinewidth": 0,
             "ticks": ""
            }
           }
          ],
          "scatter": [
           {
            "fillpattern": {
             "fillmode": "overlay",
             "size": 10,
             "solidity": 0.2
            },
            "type": "scatter"
           }
          ],
          "parcoords": [
           {
            "type": "parcoords",
            "line": {
             "colorbar": {
              "outlinewidth": 0,
              "ticks": ""
             }
            }
           }
          ],
          "scatterpolargl": [
           {
            "type": "scatterpolargl",
            "marker": {
             "colorbar": {
              "outlinewidth": 0,
              "ticks": ""
             }
            }
           }
          ],
          "bar": [
           {
            "error_x": {
             "color": "#2a3f5f"
            },
            "error_y": {
             "color": "#2a3f5f"
            },
            "marker": {
             "line": {
              "color": "white",
              "width": 0.5
             },
             "pattern": {
              "fillmode": "overlay",
              "size": 10,
              "solidity": 0.2
             }
            },
            "type": "bar"
           }
          ],
          "scattergeo": [
           {
            "type": "scattergeo",
            "marker": {
             "colorbar": {
              "outlinewidth": 0,
              "ticks": ""
             }
            }
           }
          ],
          "scatterpolar": [
           {
            "type": "scatterpolar",
            "marker": {
             "colorbar": {
              "outlinewidth": 0,
              "ticks": ""
             }
            }
           }
          ],
          "histogram": [
           {
            "marker": {
             "pattern": {
              "fillmode": "overlay",
              "size": 10,
              "solidity": 0.2
             }
            },
            "type": "histogram"
           }
          ],
          "scattergl": [
           {
            "type": "scattergl",
            "marker": {
             "colorbar": {
              "outlinewidth": 0,
              "ticks": ""
             }
            }
           }
          ],
          "scatter3d": [
           {
            "type": "scatter3d",
            "line": {
             "colorbar": {
              "outlinewidth": 0,
              "ticks": ""
             }
            },
            "marker": {
             "colorbar": {
              "outlinewidth": 0,
              "ticks": ""
             }
            }
           }
          ],
          "scattermap": [
           {
            "type": "scattermap",
            "marker": {
             "colorbar": {
              "outlinewidth": 0,
              "ticks": ""
             }
            }
           }
          ],
          "scattermapbox": [
           {
            "type": "scattermapbox",
            "marker": {
             "colorbar": {
              "outlinewidth": 0,
              "ticks": ""
             }
            }
           }
          ],
          "scatterternary": [
           {
            "type": "scatterternary",
            "marker": {
             "colorbar": {
              "outlinewidth": 0,
              "ticks": ""
             }
            }
           }
          ],
          "scattercarpet": [
           {
            "type": "scattercarpet",
            "marker": {
             "colorbar": {
              "outlinewidth": 0,
              "ticks": ""
             }
            }
           }
          ],
          "carpet": [
           {
            "aaxis": {
             "endlinecolor": "#2a3f5f",
             "gridcolor": "#C8D4E3",
             "linecolor": "#C8D4E3",
             "minorgridcolor": "#C8D4E3",
             "startlinecolor": "#2a3f5f"
            },
            "baxis": {
             "endlinecolor": "#2a3f5f",
             "gridcolor": "#C8D4E3",
             "linecolor": "#C8D4E3",
             "minorgridcolor": "#C8D4E3",
             "startlinecolor": "#2a3f5f"
            },
            "type": "carpet"
           }
          ],
          "table": [
           {
            "cells": {
             "fill": {
              "color": "#EBF0F8"
             },
             "line": {
              "color": "white"
             }
            },
            "header": {
             "fill": {
              "color": "#C8D4E3"
             },
             "line": {
              "color": "white"
             }
            },
            "type": "table"
           }
          ],
          "barpolar": [
           {
            "marker": {
             "line": {
              "color": "white",
              "width": 0.5
             },
             "pattern": {
              "fillmode": "overlay",
              "size": 10,
              "solidity": 0.2
             }
            },
            "type": "barpolar"
           }
          ],
          "pie": [
           {
            "automargin": true,
            "type": "pie"
           }
          ]
         },
         "layout": {
          "autotypenumbers": "strict",
          "colorway": [
           "#636efa",
           "#EF553B",
           "#00cc96",
           "#ab63fa",
           "#FFA15A",
           "#19d3f3",
           "#FF6692",
           "#B6E880",
           "#FF97FF",
           "#FECB52"
          ],
          "font": {
           "color": "#2a3f5f"
          },
          "hovermode": "closest",
          "hoverlabel": {
           "align": "left"
          },
          "paper_bgcolor": "white",
          "plot_bgcolor": "white",
          "polar": {
           "bgcolor": "white",
           "angularaxis": {
            "gridcolor": "#EBF0F8",
            "linecolor": "#EBF0F8",
            "ticks": ""
           },
           "radialaxis": {
            "gridcolor": "#EBF0F8",
            "linecolor": "#EBF0F8",
            "ticks": ""
           }
          },
          "ternary": {
           "bgcolor": "white",
           "aaxis": {
            "gridcolor": "#DFE8F3",
            "linecolor": "#A2B1C6",
            "ticks": ""
           },
           "baxis": {
            "gridcolor": "#DFE8F3",
            "linecolor": "#A2B1C6",
            "ticks": ""
           },
           "caxis": {
            "gridcolor": "#DFE8F3",
            "linecolor": "#A2B1C6",
            "ticks": ""
           }
          },
          "coloraxis": {
           "colorbar": {
            "outlinewidth": 0,
            "ticks": ""
           }
          },
          "colorscale": {
           "sequential": [
            [
             0.0,
             "#0d0887"
            ],
            [
             0.1111111111111111,
             "#46039f"
            ],
            [
             0.2222222222222222,
             "#7201a8"
            ],
            [
             0.3333333333333333,
             "#9c179e"
            ],
            [
             0.4444444444444444,
             "#bd3786"
            ],
            [
             0.5555555555555556,
             "#d8576b"
            ],
            [
             0.6666666666666666,
             "#ed7953"
            ],
            [
             0.7777777777777778,
             "#fb9f3a"
            ],
            [
             0.8888888888888888,
             "#fdca26"
            ],
            [
             1.0,
             "#f0f921"
            ]
           ],
           "sequentialminus": [
            [
             0.0,
             "#0d0887"
            ],
            [
             0.1111111111111111,
             "#46039f"
            ],
            [
             0.2222222222222222,
             "#7201a8"
            ],
            [
             0.3333333333333333,
             "#9c179e"
            ],
            [
             0.4444444444444444,
             "#bd3786"
            ],
            [
             0.5555555555555556,
             "#d8576b"
            ],
            [
             0.6666666666666666,
             "#ed7953"
            ],
            [
             0.7777777777777778,
             "#fb9f3a"
            ],
            [
             0.8888888888888888,
             "#fdca26"
            ],
            [
             1.0,
             "#f0f921"
            ]
           ],
           "diverging": [
            [
             0,
             "#8e0152"
            ],
            [
             0.1,
             "#c51b7d"
            ],
            [
             0.2,
             "#de77ae"
            ],
            [
             0.3,
             "#f1b6da"
            ],
            [
             0.4,
             "#fde0ef"
            ],
            [
             0.5,
             "#f7f7f7"
            ],
            [
             0.6,
             "#e6f5d0"
            ],
            [
             0.7,
             "#b8e186"
            ],
            [
             0.8,
             "#7fbc41"
            ],
            [
             0.9,
             "#4d9221"
            ],
            [
             1,
             "#276419"
            ]
           ]
          },
          "xaxis": {
           "gridcolor": "#EBF0F8",
           "linecolor": "#EBF0F8",
           "ticks": "",
           "title": {
            "standoff": 15
           },
           "zerolinecolor": "#EBF0F8",
           "automargin": true,
           "zerolinewidth": 2
          },
          "yaxis": {
           "gridcolor": "#EBF0F8",
           "linecolor": "#EBF0F8",
           "ticks": "",
           "title": {
            "standoff": 15
           },
           "zerolinecolor": "#EBF0F8",
           "automargin": true,
           "zerolinewidth": 2
          },
          "scene": {
           "xaxis": {
            "backgroundcolor": "white",
            "gridcolor": "#DFE8F3",
            "linecolor": "#EBF0F8",
            "showbackground": true,
            "ticks": "",
            "zerolinecolor": "#EBF0F8",
            "gridwidth": 2
           },
           "yaxis": {
            "backgroundcolor": "white",
            "gridcolor": "#DFE8F3",
            "linecolor": "#EBF0F8",
            "showbackground": true,
            "ticks": "",
            "zerolinecolor": "#EBF0F8",
            "gridwidth": 2
           },
           "zaxis": {
            "backgroundcolor": "white",
            "gridcolor": "#DFE8F3",
            "linecolor": "#EBF0F8",
            "showbackground": true,
            "ticks": "",
            "zerolinecolor": "#EBF0F8",
            "gridwidth": 2
           }
          },
          "shapedefaults": {
           "line": {
            "color": "#2a3f5f"
           }
          },
          "annotationdefaults": {
           "arrowcolor": "#2a3f5f",
           "arrowhead": 0,
           "arrowwidth": 1
          },
          "geo": {
           "bgcolor": "white",
           "landcolor": "white",
           "subunitcolor": "#C8D4E3",
           "showland": true,
           "showlakes": true,
           "lakecolor": "white"
          },
          "title": {
           "x": 0.05
          },
          "mapbox": {
           "style": "light"
          }
         }
        },
        "xaxis": {
         "anchor": "y",
         "domain": [
          0.0,
          1.0
         ],
         "title": {
          "text": "Dimension 1"
         }
        },
        "yaxis": {
         "anchor": "x",
         "domain": [
          0.0,
          1.0
         ],
         "title": {
          "text": "Dimension 2"
         }
        },
        "coloraxis": {
         "colorbar": {
          "title": {
           "text": "cluster"
          }
         },
         "colorscale": [
          [
           0.0,
           "#440154"
          ],
          [
           0.1111111111111111,
           "#482878"
          ],
          [
           0.2222222222222222,
           "#3e4989"
          ],
          [
           0.3333333333333333,
           "#31688e"
          ],
          [
           0.4444444444444444,
           "#26828e"
          ],
          [
           0.5555555555555556,
           "#1f9e89"
          ],
          [
           0.6666666666666666,
           "#35b779"
          ],
          [
           0.7777777777777778,
           "#6ece58"
          ],
          [
           0.8888888888888888,
           "#b5de2b"
          ],
          [
           1.0,
           "#fde725"
          ]
         ]
        },
        "legend": {
         "tracegroupgap": 0
        },
        "title": {
         "text": "Projection t-SNE des Embeddings d'Articles"
        },
        "width": 900,
        "height": 600,
        "hovermode": "closest"
       },
       "config": {
        "plotlyServerURL": "https://plot.ly"
       }
      }
     },
     "metadata": {},
     "output_type": "display_data"
    },
    {
     "name": "stdout",
     "output_type": "stream",
     "text": [
      "\n",
      "🔍 Analyse des caractéristiques des clusters:\n",
      "\n",
      "Caractéristiques de chaque cluster:\n"
     ]
    },
    {
     "data": {
      "text/plain": [
       "         dominant_category  avg_words  std_words  dominant_year  n_articles\n",
       "cluster                                                                    \n",
       "0                      375     190.27      80.20           2017         345\n",
       "1                      228     157.87      57.34           2017         589\n",
       "2                        7     201.24      65.92           2017         583\n",
       "3                      281     212.66      49.11           2015         533\n",
       "4                      412     190.58      50.12           2017         288\n",
       "5                       26     192.87      56.81           2017         519\n",
       "6                      428     182.67      37.44           2017         849\n",
       "7                      431     190.45      43.48           2017         499\n",
       "8                      281     208.23      46.14           2017         511\n",
       "9                      252     183.67      38.83           2017         284"
      ],
      "text/html": [
       "<div>\n",
       "<style scoped>\n",
       "    .dataframe tbody tr th:only-of-type {\n",
       "        vertical-align: middle;\n",
       "    }\n",
       "\n",
       "    .dataframe tbody tr th {\n",
       "        vertical-align: top;\n",
       "    }\n",
       "\n",
       "    .dataframe thead th {\n",
       "        text-align: right;\n",
       "    }\n",
       "</style>\n",
       "<table border=\"1\" class=\"dataframe\">\n",
       "  <thead>\n",
       "    <tr style=\"text-align: right;\">\n",
       "      <th></th>\n",
       "      <th>dominant_category</th>\n",
       "      <th>avg_words</th>\n",
       "      <th>std_words</th>\n",
       "      <th>dominant_year</th>\n",
       "      <th>n_articles</th>\n",
       "    </tr>\n",
       "    <tr>\n",
       "      <th>cluster</th>\n",
       "      <th></th>\n",
       "      <th></th>\n",
       "      <th></th>\n",
       "      <th></th>\n",
       "      <th></th>\n",
       "    </tr>\n",
       "  </thead>\n",
       "  <tbody>\n",
       "    <tr>\n",
       "      <th>0</th>\n",
       "      <td>375</td>\n",
       "      <td>190.27</td>\n",
       "      <td>80.20</td>\n",
       "      <td>2017</td>\n",
       "      <td>345</td>\n",
       "    </tr>\n",
       "    <tr>\n",
       "      <th>1</th>\n",
       "      <td>228</td>\n",
       "      <td>157.87</td>\n",
       "      <td>57.34</td>\n",
       "      <td>2017</td>\n",
       "      <td>589</td>\n",
       "    </tr>\n",
       "    <tr>\n",
       "      <th>2</th>\n",
       "      <td>7</td>\n",
       "      <td>201.24</td>\n",
       "      <td>65.92</td>\n",
       "      <td>2017</td>\n",
       "      <td>583</td>\n",
       "    </tr>\n",
       "    <tr>\n",
       "      <th>3</th>\n",
       "      <td>281</td>\n",
       "      <td>212.66</td>\n",
       "      <td>49.11</td>\n",
       "      <td>2015</td>\n",
       "      <td>533</td>\n",
       "    </tr>\n",
       "    <tr>\n",
       "      <th>4</th>\n",
       "      <td>412</td>\n",
       "      <td>190.58</td>\n",
       "      <td>50.12</td>\n",
       "      <td>2017</td>\n",
       "      <td>288</td>\n",
       "    </tr>\n",
       "    <tr>\n",
       "      <th>5</th>\n",
       "      <td>26</td>\n",
       "      <td>192.87</td>\n",
       "      <td>56.81</td>\n",
       "      <td>2017</td>\n",
       "      <td>519</td>\n",
       "    </tr>\n",
       "    <tr>\n",
       "      <th>6</th>\n",
       "      <td>428</td>\n",
       "      <td>182.67</td>\n",
       "      <td>37.44</td>\n",
       "      <td>2017</td>\n",
       "      <td>849</td>\n",
       "    </tr>\n",
       "    <tr>\n",
       "      <th>7</th>\n",
       "      <td>431</td>\n",
       "      <td>190.45</td>\n",
       "      <td>43.48</td>\n",
       "      <td>2017</td>\n",
       "      <td>499</td>\n",
       "    </tr>\n",
       "    <tr>\n",
       "      <th>8</th>\n",
       "      <td>281</td>\n",
       "      <td>208.23</td>\n",
       "      <td>46.14</td>\n",
       "      <td>2017</td>\n",
       "      <td>511</td>\n",
       "    </tr>\n",
       "    <tr>\n",
       "      <th>9</th>\n",
       "      <td>252</td>\n",
       "      <td>183.67</td>\n",
       "      <td>38.83</td>\n",
       "      <td>2017</td>\n",
       "      <td>284</td>\n",
       "    </tr>\n",
       "  </tbody>\n",
       "</table>\n",
       "</div>"
      ]
     },
     "metadata": {},
     "output_type": "display_data"
    },
    {
     "name": "stdout",
     "output_type": "stream",
     "text": [
      "\n",
      "🎯 Articles représentatifs de chaque cluster:\n",
      "\n",
      "  Cluster 0:\n",
      "    • Article ID: 237345\n",
      "    • Catégorie: 375\n",
      "    • Nombre de mots: 177\n",
      "    • Date: 2017-07-19\n",
      "\n",
      "  Cluster 1:\n",
      "    • Article ID: 226800\n",
      "    • Catégorie: 368\n",
      "    • Nombre de mots: 113\n",
      "    • Date: 2018-02-27\n",
      "\n",
      "  Cluster 2:\n",
      "    • Article ID: 16109\n",
      "    • Catégorie: 7\n",
      "    • Nombre de mots: 217\n",
      "    • Date: 2017-11-09\n",
      "\n",
      "  Cluster 3:\n",
      "    • Article ID: 112325\n",
      "    • Catégorie: 237\n",
      "    • Nombre de mots: 193\n",
      "    • Date: 2014-07-13\n",
      "\n",
      "  Cluster 4:\n",
      "    • Article ID: 345151\n",
      "    • Catégorie: 440\n",
      "    • Nombre de mots: 235\n",
      "    • Date: 2018-02-06\n",
      "\n",
      "  Cluster 5:\n",
      "    • Article ID: 30087\n",
      "    • Catégorie: 26\n",
      "    • Nombre de mots: 188\n",
      "    • Date: 2017-09-04\n",
      "\n",
      "  Cluster 6:\n",
      "    • Article ID: 7194\n",
      "    • Catégorie: 6\n",
      "    • Nombre de mots: 190\n",
      "    • Date: 2016-09-21\n",
      "\n",
      "  Cluster 7:\n",
      "    • Article ID: 286850\n",
      "    • Catégorie: 418\n",
      "    • Nombre de mots: 101\n",
      "    • Date: 2013-10-24\n",
      "\n",
      "  Cluster 8:\n",
      "    • Article ID: 281034\n",
      "    • Catégorie: 412\n",
      "    • Nombre de mots: 178\n",
      "    • Date: 2016-01-06\n",
      "\n",
      "  Cluster 9:\n",
      "    • Article ID: 126369\n",
      "    • Catégorie: 252\n",
      "    • Nombre de mots: 162\n",
      "    • Date: 2014-05-12\n"
     ]
    }
   ],
   "execution_count": 17
  },
  {
   "metadata": {
    "ExecuteTime": {
     "end_time": "2025-09-12T09:34:32.530215Z",
     "start_time": "2025-09-12T09:34:32.385321Z"
    }
   },
   "cell_type": "code",
   "source": [
    "# Création de labels descriptifs pour les articles populaires\n",
    "print(\"\\n🏷️ CRÉATION DE LABELS POUR LES ARTICLES\")\n",
    "print(\"=\"*60)\n",
    "\n",
    "# Identifier les articles les plus populaires\n",
    "article_popularity = clicks_df['click_article_id'].value_counts()\n",
    "top_articles = article_popularity.head(100).index\n",
    "\n",
    "# Créer des labels pour ces articles\n",
    "def create_article_label(article_id, articles_df, clicks_df):\n",
    "    \"\"\"Crée un label descriptif pour un article\"\"\"\n",
    "\n",
    "    # Obtenir les métadonnées de l'article\n",
    "    article_data = articles_df[articles_df['article_id'] == article_id]\n",
    "\n",
    "    if len(article_data) == 0:\n",
    "        return f\"Article_{article_id}_Unknown\"\n",
    "\n",
    "    article_data = article_data.iloc[0]\n",
    "\n",
    "    # Obtenir les statistiques de clics\n",
    "    click_count = (clicks_df['click_article_id'] == article_id).sum()\n",
    "\n",
    "    # Déterminer les caractéristiques\n",
    "    # Longueur\n",
    "    if article_data['words_count'] < 150:\n",
    "        length = \"Short\"\n",
    "    elif article_data['words_count'] < 250:\n",
    "        length = \"Medium\"\n",
    "    else:\n",
    "        length = \"Long\"\n",
    "\n",
    "    # Popularité\n",
    "    if click_count > article_popularity.quantile(0.9):\n",
    "        popularity = \"VeryPopular\"\n",
    "    elif click_count > article_popularity.quantile(0.5):\n",
    "        popularity = \"Popular\"\n",
    "    else:\n",
    "        popularity = \"Standard\"\n",
    "\n",
    "    # Âge\n",
    "    age_days = (articles_df['created_at'].max() - article_data['created_at']).days\n",
    "    if age_days < 30:\n",
    "        age = \"New\"\n",
    "    elif age_days < 365:\n",
    "        age = \"Recent\"\n",
    "    else:\n",
    "        age = \"Old\"\n",
    "\n",
    "    # Créer le label\n",
    "    return f\"Art_{article_id:.0f}_Cat{article_data['category_id']:.0f}_{length}_{popularity}_{age}\"\n",
    "\n",
    "# Créer les labels pour les top articles\n",
    "article_labels = {}\n",
    "for article_id in top_articles:\n",
    "    article_labels[article_id] = create_article_label(article_id, articles_df, clicks_df)\n",
    "\n",
    "print(f\"Labels créés pour {len(article_labels)} articles populaires\")\n",
    "\n",
    "# Afficher quelques exemples\n",
    "print(\"\\n📋 Exemples de labels d'articles:\")\n",
    "for i, (article_id, label) in enumerate(list(article_labels.items())[:10]):\n",
    "    click_count = article_popularity[article_id]\n",
    "    print(f\"  • Article {article_id:.0f} ({click_count} clics): {label}\")\n",
    "\n",
    "# Créer un DataFrame enrichi pour les articles populaires\n",
    "popular_articles_df = pd.DataFrame({\n",
    "    'article_id': list(article_labels.keys()),\n",
    "    'label': list(article_labels.values()),\n",
    "    'click_count': [article_popularity[aid] for aid in article_labels.keys()]\n",
    "})\n",
    "\n",
    "# Enrichir avec les métadonnées\n",
    "popular_articles_df = popular_articles_df.merge(\n",
    "    articles_df[['article_id', 'category_id', 'words_count', 'created_at']],\n",
    "    on='article_id',\n",
    "    how='left'\n",
    ")\n",
    "\n",
    "print(\"\\n📊 Distribution des caractéristiques des articles populaires:\")\n",
    "# Extraire les caractéristiques des labels\n",
    "popular_articles_df['length_type'] = popular_articles_df['label'].str.extract(r'_(Short|Medium|Long)_')[0]\n",
    "popular_articles_df['popularity_type'] = popular_articles_df['label'].str.extract(r'_(VeryPopular|Popular|Standard)_')[0]\n",
    "popular_articles_df['age_type'] = popular_articles_df['label'].str.extract(r'_(New|Recent|Old)$')[0]\n",
    "\n",
    "for col in ['length_type', 'popularity_type', 'age_type']:\n",
    "    print(f\"\\n{col.replace('_', ' ').title()}:\")\n",
    "    for value, count in popular_articles_df[col].value_counts().items():\n",
    "        print(f\"  • {value}: {count} ({count/len(popular_articles_df)*100:.1f}%)\")"
   ],
   "outputs": [
    {
     "name": "stdout",
     "output_type": "stream",
     "text": [
      "\n",
      "🏷️ CRÉATION DE LABELS POUR LES ARTICLES\n",
      "============================================================\n",
      "Labels créés pour 100 articles populaires\n",
      "\n",
      "📋 Exemples de labels d'articles:\n",
      "  • Article 160974 (36336 clics): Art_160974_Cat281_Long_VeryPopular_Recent\n",
      "  • Article 162655 (18705 clics): Art_162655_Cat281_Medium_VeryPopular_Recent\n",
      "  • Article 158536 (16766 clics): Art_158536_Cat281_Long_VeryPopular_Recent\n",
      "  • Article 272660 (16135 clics): Art_272660_Cat399_Medium_VeryPopular_Recent\n",
      "  • Article 272143 (15039 clics): Art_272143_Cat399_Medium_VeryPopular_Recent\n",
      "  • Article 199198 (13425 clics): Art_199198_Cat323_Medium_VeryPopular_Recent\n",
      "  • Article 64329 (11703 clics): Art_64329_Cat134_Medium_VeryPopular_Recent\n",
      "  • Article 160417 (10596 clics): Art_160417_Cat281_Medium_VeryPopular_Recent\n",
      "  • Article 166581 (10295 clics): Art_166581_Cat289_Medium_VeryPopular_Recent\n",
      "  • Article 59758 (9760 clics): Art_59758_Cat123_Medium_VeryPopular_Recent\n",
      "\n",
      "📊 Distribution des caractéristiques des articles populaires:\n",
      "\n",
      "Length Type:\n",
      "  • Medium: 83 (83.0%)\n",
      "  • Long: 12 (12.0%)\n",
      "  • Short: 5 (5.0%)\n",
      "\n",
      "Popularity Type:\n",
      "  • VeryPopular: 100 (100.0%)\n",
      "\n",
      "Age Type:\n",
      "  • Recent: 100 (100.0%)\n"
     ]
    }
   ],
   "execution_count": 18
  },
  {
   "metadata": {
    "ExecuteTime": {
     "end_time": "2025-09-12T09:34:32.639032Z",
     "start_time": "2025-09-12T09:34:32.585229Z"
    }
   },
   "cell_type": "code",
   "source": [
    "# Synthèse des insights clés\n",
    "# Calculer des métriques clés\n",
    "total_interactions = len(clicks_df)\n",
    "unique_users = clicks_df['user_id'].nunique()\n",
    "unique_articles_clicked = clicks_df['click_article_id'].nunique()\n",
    "coverage_rate = unique_articles_clicked / len(articles_df) * 100\n",
    "\n",
    "# Analyser la concentration\n",
    "top_10_percent_articles = int(len(article_popularity) * 0.1)\n",
    "top_10_percent_clicks = article_popularity.head(top_10_percent_articles).sum()\n",
    "concentration_rate = top_10_percent_clicks / total_interactions * 100\n",
    "\n",
    "# Problème de Cold Start\n",
    "cold_articles = len(articles_df) - unique_articles_clicked\n",
    "\n",
    "# Patterns temporels\n",
    "peak_hour = clicks_df['hour_of_day'].mode()[0]\n",
    "peak_day = clicks_df['day_of_week'].mode()[0]\n",
    "\n",
    "# Qualité du contenu\n",
    "avg_words = articles_df['words_count'].mean()\n",
    "median_words = articles_df['words_count'].median()\n",
    "\n",
    "# Créer un DataFrame de synthèse avec toutes les métriques importantes\n",
    "summary_metrics = pd.DataFrame({\n",
    "    'Métrique': [\n",
    "        'Interactions totales',\n",
    "        'Utilisateurs uniques',\n",
    "        'Articles dans le catalogue',\n",
    "        'Articles avec au moins un clic',\n",
    "        'Taux de couverture (%)',\n",
    "        'Concentration 10% (%)',\n",
    "        'Articles jamais cliqués',\n",
    "        'Heure de pointe',\n",
    "        'Jour le plus actif',\n",
    "        'Longueur moyenne (mots)',\n",
    "        'Longueur médiane (mots)',\n",
    "        'Dimension embeddings',\n",
    "        'Clusters identifiés',\n",
    "        'Segments utilisateurs'\n",
    "    ],\n",
    "    'Valeur': [\n",
    "        total_interactions,\n",
    "        unique_users,\n",
    "        len(articles_df),\n",
    "        unique_articles_clicked,\n",
    "        f\"{coverage_rate:.2f}\",\n",
    "        f\"{concentration_rate:.1f}\",\n",
    "        cold_articles,\n",
    "        f\"{peak_hour}h\",\n",
    "        peak_day,\n",
    "        f\"{avg_words:.0f}\",\n",
    "        f\"{median_words:.0f}\",\n",
    "        embeddings_array.shape[1],\n",
    "        n_clusters,\n",
    "        len(user_profiles['segment'].unique())\n",
    "    ]\n",
    "})\n",
    "\n",
    "# Dataframes principaux disponibles pour analyse\n",
    "dataframes_disponibles = {\n",
    "    'articles_df': articles_df,  # Articles avec labels de catégories\n",
    "    'clicks_df': clicks_df,  # Interactions utilisateurs\n",
    "    'user_profiles': user_profiles,  # Profils et segments utilisateurs\n",
    "    'category_stats': category_stats,  # Statistiques des catégories\n",
    "    'popular_articles_df': popular_articles_df,  # Top articles avec labels\n",
    "    'summary_metrics': summary_metrics  # Métriques de synthèse\n",
    "}\n",
    "\n",
    "# Afficher le résumé\n",
    "summary_metrics"
   ],
   "outputs": [
    {
     "data": {
      "text/plain": [
       "                          Métrique  Valeur\n",
       "0             Interactions totales  448380\n",
       "1             Utilisateurs uniques  117185\n",
       "2       Articles dans le catalogue  364047\n",
       "3   Articles avec au moins un clic    9386\n",
       "4           Taux de couverture (%)    2.58\n",
       "5            Concentration 10% (%)    95.9\n",
       "6          Articles jamais cliqués  354661\n",
       "7                  Heure de pointe     22h\n",
       "8               Jour le plus actif  Monday\n",
       "9          Longueur moyenne (mots)     191\n",
       "10         Longueur médiane (mots)     186\n",
       "11            Dimension embeddings     250\n",
       "12             Clusters identifiés      10\n",
       "13           Segments utilisateurs       3"
      ],
      "text/html": [
       "<div>\n",
       "<style scoped>\n",
       "    .dataframe tbody tr th:only-of-type {\n",
       "        vertical-align: middle;\n",
       "    }\n",
       "\n",
       "    .dataframe tbody tr th {\n",
       "        vertical-align: top;\n",
       "    }\n",
       "\n",
       "    .dataframe thead th {\n",
       "        text-align: right;\n",
       "    }\n",
       "</style>\n",
       "<table border=\"1\" class=\"dataframe\">\n",
       "  <thead>\n",
       "    <tr style=\"text-align: right;\">\n",
       "      <th></th>\n",
       "      <th>Métrique</th>\n",
       "      <th>Valeur</th>\n",
       "    </tr>\n",
       "  </thead>\n",
       "  <tbody>\n",
       "    <tr>\n",
       "      <th>0</th>\n",
       "      <td>Interactions totales</td>\n",
       "      <td>448380</td>\n",
       "    </tr>\n",
       "    <tr>\n",
       "      <th>1</th>\n",
       "      <td>Utilisateurs uniques</td>\n",
       "      <td>117185</td>\n",
       "    </tr>\n",
       "    <tr>\n",
       "      <th>2</th>\n",
       "      <td>Articles dans le catalogue</td>\n",
       "      <td>364047</td>\n",
       "    </tr>\n",
       "    <tr>\n",
       "      <th>3</th>\n",
       "      <td>Articles avec au moins un clic</td>\n",
       "      <td>9386</td>\n",
       "    </tr>\n",
       "    <tr>\n",
       "      <th>4</th>\n",
       "      <td>Taux de couverture (%)</td>\n",
       "      <td>2.58</td>\n",
       "    </tr>\n",
       "    <tr>\n",
       "      <th>5</th>\n",
       "      <td>Concentration 10% (%)</td>\n",
       "      <td>95.9</td>\n",
       "    </tr>\n",
       "    <tr>\n",
       "      <th>6</th>\n",
       "      <td>Articles jamais cliqués</td>\n",
       "      <td>354661</td>\n",
       "    </tr>\n",
       "    <tr>\n",
       "      <th>7</th>\n",
       "      <td>Heure de pointe</td>\n",
       "      <td>22h</td>\n",
       "    </tr>\n",
       "    <tr>\n",
       "      <th>8</th>\n",
       "      <td>Jour le plus actif</td>\n",
       "      <td>Monday</td>\n",
       "    </tr>\n",
       "    <tr>\n",
       "      <th>9</th>\n",
       "      <td>Longueur moyenne (mots)</td>\n",
       "      <td>191</td>\n",
       "    </tr>\n",
       "    <tr>\n",
       "      <th>10</th>\n",
       "      <td>Longueur médiane (mots)</td>\n",
       "      <td>186</td>\n",
       "    </tr>\n",
       "    <tr>\n",
       "      <th>11</th>\n",
       "      <td>Dimension embeddings</td>\n",
       "      <td>250</td>\n",
       "    </tr>\n",
       "    <tr>\n",
       "      <th>12</th>\n",
       "      <td>Clusters identifiés</td>\n",
       "      <td>10</td>\n",
       "    </tr>\n",
       "    <tr>\n",
       "      <th>13</th>\n",
       "      <td>Segments utilisateurs</td>\n",
       "      <td>3</td>\n",
       "    </tr>\n",
       "  </tbody>\n",
       "</table>\n",
       "</div>"
      ]
     },
     "execution_count": 19,
     "metadata": {},
     "output_type": "execute_result"
    }
   ],
   "execution_count": 19
  }
 ],
 "metadata": {
  "kernelspec": {
   "display_name": "Python 3",
   "language": "python",
   "name": "python3"
  },
  "language_info": {
   "codemirror_mode": {
    "name": "ipython",
    "version": 3
   },
   "file_extension": ".py",
   "mimetype": "text/x-python",
   "name": "python",
   "nbconvert_exporter": "python",
   "pygments_lexer": "ipython3",
   "version": "3.8.0"
  }
 },
 "nbformat": 4,
 "nbformat_minor": 4
}
